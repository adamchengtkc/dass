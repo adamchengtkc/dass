{
 "cells": [
  {
   "cell_type": "markdown",
   "id": "2b864212",
   "metadata": {},
   "source": [
    "# Iterative Ensemble Smoother (IES) and Ensemble Smoother with Multiple Data Assimilation (ES-MDA) with the Burgers PDE\n",
    "\n",
    "Using IES and ES-MDA to estimate fluid viscosity."
   ]
  },
  {
   "cell_type": "code",
   "execution_count": 5,
   "id": "52ad15bf",
   "metadata": {},
   "outputs": [],
   "source": [
    "import matplotlib.pyplot as plt\n",
    "\n",
    "import numpy as np\n",
    "\n",
    "rng = np.random.default_rng(12345)\n",
    "\n",
    "import pandas as pd\n",
    "\n",
    "from p_tqdm import p_map\n",
    "from ipywidgets import interact\n",
    "import ipywidgets as widgets\n",
    "\n",
    "from iterative_ensemble_smoother import IterativeEnsembleSmoother"
   ]
  },
  {
   "cell_type": "code",
   "execution_count": 6,
   "id": "39760510",
   "metadata": {},
   "outputs": [
    {
     "name": "stdout",
     "output_type": "stream",
     "text": [
      "The autoreload extension is already loaded. To reload it, use:\n",
      "  %reload_ext autoreload\n"
     ]
    }
   ],
   "source": [
    "%load_ext autoreload\n",
    "%autoreload 2\n",
    "from dass import pde, utils, analysis, taper"
   ]
  },
  {
   "cell_type": "markdown",
   "id": "291b2f20",
   "metadata": {},
   "source": [
    "## Define true parameter and run forward model, i.e., Burgers' equation."
   ]
  },
  {
   "cell_type": "code",
   "execution_count": 7,
   "id": "85b75c8c",
   "metadata": {},
   "outputs": [],
   "source": [
    "nx = 41\n",
    "ny = 41\n",
    "\n",
    "# time steps\n",
    "k_start = 0\n",
    "k_end = 500\n",
    "\n",
    "nu_true = 0.1\n",
    "u = pde.burgers(nx=nx, ny=ny, nt=k_end, nu=nu_true)"
   ]
  },
  {
   "cell_type": "code",
   "execution_count": 8,
   "id": "b55926f4",
   "metadata": {},
   "outputs": [
    {
     "data": {
      "application/vnd.jupyter.widget-view+json": {
       "model_id": "124ca113e78b41b7abc6c98e1e8df18f",
       "version_major": 2,
       "version_minor": 0
      },
      "text/plain": [
       "interactive(children=(IntSlider(value=0, description='k', max=499), Output()), _dom_classes=('widget-interact'…"
      ]
     },
     "metadata": {},
     "output_type": "display_data"
    },
    {
     "data": {
      "text/plain": [
       "<function __main__.interactive_truth(k)>"
      ]
     },
     "execution_count": 8,
     "metadata": {},
     "output_type": "execute_result"
    }
   ],
   "source": [
    "def interactive_truth(k):\n",
    "    fig, ax = plt.subplots()\n",
    "    fig.suptitle(\"True response\")\n",
    "    p = ax.pcolormesh(u[k])\n",
    "    ax.set_title(f\"k = {k}\")\n",
    "    utils.colorbar(p)\n",
    "    fig.tight_layout()\n",
    "\n",
    "\n",
    "interact(\n",
    "    interactive_truth,\n",
    "    k=widgets.IntSlider(min=k_start, max=k_end - 1, step=1, value=0),\n",
    ")"
   ]
  },
  {
   "cell_type": "markdown",
   "id": "542dfcf8",
   "metadata": {},
   "source": [
    "## Define placement of sensors and generate synthetic observations based on the true field values"
   ]
  },
  {
   "cell_type": "code",
   "execution_count": 9,
   "id": "9edb3b06",
   "metadata": {},
   "outputs": [
    {
     "name": "stdout",
     "output_type": "stream",
     "text": [
      "Number of observations:  4000\n"
     ]
    },
    {
     "data": {
      "text/plain": [
       "[<matplotlib.lines.Line2D at 0x124ade730>]"
      ]
     },
     "execution_count": 9,
     "metadata": {},
     "output_type": "execute_result"
    },
    {
     "data": {
      "image/png": "[encoded data removed]",
      "text/plain": [
       "<Figure size 640x480 with 2 Axes>"
      ]
     },
     "metadata": {},
     "output_type": "display_data"
    }
   ],
   "source": [
    "# placement of sensors, i.e, where the observations are done\n",
    "pad = 1\n",
    "coords = np.array([(x, y) for x in range(pad, nx - pad) for y in range(pad, nx - pad)])\n",
    "ncoords = coords.shape[0]\n",
    "nmeas = 200\n",
    "coords_idx = np.random.choice(np.arange(ncoords), size=nmeas, replace=False)\n",
    "obs_coordinates = [utils.Coordinate(xc, yc) for xc, yc in coords[coords_idx]]\n",
    "\n",
    "# At which times observations are taken\n",
    "obs_times = np.linspace(5, k_end, 20, endpoint=False, dtype=int)\n",
    "\n",
    "d = utils.observations(obs_coordinates, obs_times, u, lambda value: abs(0.01 * value))\n",
    "# number of measurements\n",
    "m = d.shape[0]\n",
    "print(\"Number of observations: \", m)\n",
    "\n",
    "# Plot temperature field and show placement of sensors.\n",
    "obs_coordinates = set(zip(d.index.get_level_values(\"x\"), d.index.get_level_values(\"y\")))\n",
    "x, y = zip(*obs_coordinates)\n",
    "\n",
    "fig, ax = plt.subplots()\n",
    "p = ax.pcolormesh(u[0], cmap=plt.cm.viridis)\n",
    "ax.set_title(\"True velocity field with sensor placement\")\n",
    "utils.colorbar(p)\n",
    "ax.plot([i + 0.5 for i in x], [j + 0.5 for j in y], \"s\", color=\"white\", markersize=5)"
   ]
  },
  {
   "cell_type": "code",
   "execution_count": 10,
   "id": "f978ffc6",
   "metadata": {},
   "outputs": [],
   "source": [
    "# Number of realisations\n",
    "N = 50"
   ]
  },
  {
   "cell_type": "code",
   "execution_count": 11,
   "id": "05720c84",
   "metadata": {},
   "outputs": [],
   "source": [
    "ss = np.random.SeedSequence(12345)\n",
    "child_seeds = ss.spawn(N)\n",
    "streams = [np.random.default_rng(s) for s in child_seeds]"
   ]
  },
  {
   "cell_type": "code",
   "execution_count": 12,
   "id": "ad9bd346",
   "metadata": {},
   "outputs": [],
   "source": [
    "# List of matrices of size (nx, nx) containing priors.\n",
    "# The reason for having a list is that `p_map` requires it.\n",
    "# `p_map` runs stuff in parallel.\n",
    "A_IES = rng.uniform(low=0.0, high=0.6, size=N)"
   ]
  },
  {
   "cell_type": "code",
   "execution_count": 13,
   "id": "e05094dc",
   "metadata": {},
   "outputs": [
    {
     "data": {
      "text/plain": [
       "(array([1., 0., 3., 1., 1., 2., 1., 2., 4., 1., 5., 1., 1., 1., 2., 1., 0.,\n",
       "        1., 3., 1., 1., 3., 2., 1., 0., 2., 0., 2., 2., 5.]),\n",
       " array([0.0030134 , 0.02189058, 0.04076775, 0.05964493, 0.07852211,\n",
       "        0.09739928, 0.11627646, 0.13515363, 0.15403081, 0.17290799,\n",
       "        0.19178516, 0.21066234, 0.22953952, 0.24841669, 0.26729387,\n",
       "        0.28617105, 0.30504822, 0.3239254 , 0.34280257, 0.36167975,\n",
       "        0.38055693, 0.3994341 , 0.41831128, 0.43718846, 0.45606563,\n",
       "        0.47494281, 0.49381999, 0.51269716, 0.53157434, 0.55045151,\n",
       "        0.56932869]),\n",
       " <BarContainer object of 30 artists>)"
      ]
     },
     "execution_count": 13,
     "metadata": {},
     "output_type": "execute_result"
    },
    {
     "data": {
      "image/png": "[encoded data removed]",
      "text/plain": [
       "<Figure size 640x480 with 1 Axes>"
      ]
     },
     "metadata": {},
     "output_type": "display_data"
    }
   ],
   "source": [
    "fig, ax = plt.subplots()\n",
    "ax.hist(A_IES, bins=30)"
   ]
  },
  {
   "cell_type": "code",
   "execution_count": 14,
   "id": "0f6eb95c",
   "metadata": {},
   "outputs": [],
   "source": [
    "def get_steplength(iteration_nr: int) -> float:\n",
    "    \"\"\"\n",
    "    This is an implementation of Eq. (49), which calculates a suitable step length for\n",
    "    the update step, from the book:\n",
    "\n",
    "    Geir Evensen, Formulating the history matching problem with consistent error statistics,\n",
    "    Computational Geosciences (2021) 25:945 –970\n",
    "    \"\"\"\n",
    "    max_steplength: float = 0.6\n",
    "    min_steplength: float = 0.3\n",
    "    dec_steplength: float = 2.5\n",
    "\n",
    "    steplength = min_steplength + (max_steplength - min_steplength) * pow(\n",
    "        2, -(iteration_nr - 1) / (dec_steplength - 1)\n",
    "    )\n",
    "    return steplength"
   ]
  },
  {
   "cell_type": "code",
   "execution_count": 15,
   "id": "33a74ffb",
   "metadata": {},
   "outputs": [],
   "source": [
    "number_of_ies_iterations = 3\n",
    "\n",
    "# Coefficient matrix as defined in Eq. 16 and Eq. 17.\n",
    "W = np.zeros(shape=(N, N))\n",
    "\n",
    "# Use same prior for all methods.\n",
    "A_IES_ert = A_IES.copy()\n",
    "A_ESMDA = A_IES.copy()"
   ]
  },
  {
   "cell_type": "code",
   "execution_count": 16,
   "id": "2c9e41a4",
   "metadata": {},
   "outputs": [],
   "source": [
    "df_IES = pd.DataFrame({\"Iteration\": [0] * len(A_IES), \"Value\": A_IES})\n",
    "df_IES_ert = pd.DataFrame({\"Iteration\": [0] * len(A_IES_ert), \"Value\": A_IES_ert})\n",
    "df_ESMDA = pd.DataFrame({\"Iteration\": [0] * len(A_ESMDA), \"Value\": A_ESMDA})"
   ]
  },
  {
   "cell_type": "markdown",
   "id": "ee36f727",
   "metadata": {},
   "source": [
    "## Running ES for reference"
   ]
  },
  {
   "cell_type": "code",
   "execution_count": 17,
   "id": "51d0d2e9",
   "metadata": {},
   "outputs": [
    {
     "data": {
      "application/vnd.jupyter.widget-view+json": {
       "model_id": "5245652b266b4d16982aec9eacaf2de2",
       "version_major": 2,
       "version_minor": 0
      },
      "text/plain": [
       "Running forward model.:   0%|          | 0/50 [00:00<?, ?it/s]"
      ]
     },
     "metadata": {},
     "output_type": "display_data"
    },
    {
     "name": "stdout",
     "output_type": "stream",
     "text": [
      "339 measurements will be deactivated.\n"
     ]
    }
   ],
   "source": [
    "A_ES = A_IES.copy()\n",
    "\n",
    "fwd_runs = p_map(\n",
    "    pde.burgers,\n",
    "    [nx] * N,\n",
    "    [ny] * N,\n",
    "    [k_end] * N,\n",
    "    A_ES,\n",
    "    desc=f\"Running forward model.\",\n",
    ")\n",
    "\n",
    "# Assume diagonal ensemble covariance matrix for the measurement perturbations.\n",
    "Cdd = np.diag(d.sd.values**2)\n",
    "\n",
    "# 9.4 Ensemble representation for measurements\n",
    "E = rng.multivariate_normal(mean=np.zeros(len(Cdd)), cov=Cdd, size=N).T\n",
    "E = E - E.mean(axis=1, keepdims=True)\n",
    "assert E.shape == (m, N)\n",
    "\n",
    "D = np.ones((m, N)) * d.value.values.reshape(-1, 1) + E\n",
    "\n",
    "Y = np.array(\n",
    "    [\n",
    "        fwd_run[\n",
    "            d.index.get_level_values(\"k\").to_list(),\n",
    "            d.index.get_level_values(\"y\").to_list(),\n",
    "            d.index.get_level_values(\"x\").to_list(),\n",
    "        ]\n",
    "        for fwd_run in fwd_runs\n",
    "    ]\n",
    ").T\n",
    "\n",
    "# We expect that a certain number of points gets deactivated,\n",
    "# since not all cells are changing values due to the way the model works.\n",
    "enough_ens_var_idx = Y.var(axis=1) > 1e-6\n",
    "print(f\"{list(enough_ens_var_idx).count(False)} measurements will be deactivated.\")\n",
    "Y = Y[enough_ens_var_idx, :]\n",
    "D = D[enough_ens_var_idx, :]\n",
    "Cdd = Cdd[enough_ens_var_idx, :]\n",
    "Cdd = Cdd[:, enough_ens_var_idx]\n",
    "\n",
    "X = analysis.ES(Y, D, Cdd)\n",
    "A_ES = A_ES @ X"
   ]
  },
  {
   "cell_type": "markdown",
   "id": "6622c0db",
   "metadata": {},
   "source": [
    "## Running `dass`'s implementation of IES"
   ]
  },
  {
   "cell_type": "code",
   "execution_count": 18,
   "id": "ceb24b0f",
   "metadata": {
    "lines_to_next_cell": 2
   },
   "outputs": [
    {
     "data": {
      "application/vnd.jupyter.widget-view+json": {
       "model_id": "716978ac4ce1436c8ce404d1937bb207",
       "version_major": 2,
       "version_minor": 0
      },
      "text/plain": [
       "Running forward model.:   0%|          | 0/50 [00:00<?, ?it/s]"
      ]
     },
     "metadata": {},
     "output_type": "display_data"
    },
    {
     "name": "stdout",
     "output_type": "stream",
     "text": [
      "339 measurements will be deactivated.\n"
     ]
    },
    {
     "data": {
      "application/vnd.jupyter.widget-view+json": {
       "model_id": "5c6e37ff3f4948c1a3d1268d29c00532",
       "version_major": 2,
       "version_minor": 0
      },
      "text/plain": [
       "Running forward model.:   0%|          | 0/50 [00:00<?, ?it/s]"
      ]
     },
     "metadata": {},
     "output_type": "display_data"
    },
    {
     "name": "stdout",
     "output_type": "stream",
     "text": [
      "999 measurements will be deactivated.\n"
     ]
    },
    {
     "data": {
      "application/vnd.jupyter.widget-view+json": {
       "model_id": "81b701de05cd406da5cef34944930691",
       "version_major": 2,
       "version_minor": 0
      },
      "text/plain": [
       "Running forward model.:   0%|          | 0/50 [00:00<?, ?it/s]"
      ]
     },
     "metadata": {},
     "output_type": "display_data"
    },
    {
     "name": "stdout",
     "output_type": "stream",
     "text": [
      "2348 measurements will be deactivated.\n"
     ]
    }
   ],
   "source": [
    "for i in range(number_of_ies_iterations):\n",
    "\n",
    "    # Step length in Gauss Newton\n",
    "    gamma = get_steplength(i)\n",
    "\n",
    "    fwd_runs = p_map(\n",
    "        pde.burgers,\n",
    "        [nx] * N,\n",
    "        [ny] * N,\n",
    "        [k_end] * N,\n",
    "        A_IES,\n",
    "        desc=f\"Running forward model.\",\n",
    "    )\n",
    "\n",
    "    # Assume diagonal ensemble covariance matrix for the measurement perturbations.\n",
    "    Cdd = np.diag(d.sd.values**2)\n",
    "\n",
    "    # 9.4 Ensemble representation for measurements\n",
    "    E = rng.multivariate_normal(mean=np.zeros(len(Cdd)), cov=Cdd, size=N).T\n",
    "    E = E - E.mean(axis=1, keepdims=True)\n",
    "    assert E.shape == (m, N)\n",
    "\n",
    "    D = np.ones((m, N)) * d.value.values.reshape(-1, 1) + E\n",
    "\n",
    "    Y = np.array(\n",
    "        [\n",
    "            fwd_run[\n",
    "                d.index.get_level_values(\"k\").to_list(),\n",
    "                d.index.get_level_values(\"y\").to_list(),\n",
    "                d.index.get_level_values(\"x\").to_list(),\n",
    "            ]\n",
    "            for fwd_run in fwd_runs\n",
    "        ]\n",
    "    ).T\n",
    "\n",
    "    assert Y.shape == (\n",
    "        m,\n",
    "        N,\n",
    "    ), \"Measured responses must be a matrix with dimensions (number of observations x number of realisations)\"\n",
    "\n",
    "    # We expect that a certain number of points gets deactivated,\n",
    "    # since not all cells are changing values due to the way the model works.\n",
    "    enough_ens_var_idx = Y.var(axis=1) > 1e-6\n",
    "    print(f\"{list(enough_ens_var_idx).count(False)} measurements will be deactivated.\")\n",
    "    Y = Y[enough_ens_var_idx, :]\n",
    "    D = D[enough_ens_var_idx, :]\n",
    "    Cdd = Cdd[enough_ens_var_idx, :]\n",
    "    Cdd = Cdd[:, enough_ens_var_idx]\n",
    "\n",
    "    W = analysis.IES(Y, D, Cdd, W, gamma)\n",
    "    X_IES = np.identity(N) + W\n",
    "    A_IES = A_IES @ X_IES\n",
    "\n",
    "    df_iter = pd.DataFrame({\"Iteration\": [i + 1] * len(A_IES), \"Value\": A_IES})\n",
    "    df_IES = pd.concat([df_IES, df_iter])"
   ]
  },
  {
   "cell_type": "code",
   "execution_count": 19,
   "id": "31058e17",
   "metadata": {},
   "outputs": [],
   "source": [
    "df_IES_pivot = df_IES.pivot(columns=\"Iteration\", values=\"Value\")\n",
    "df_IES_pivot.columns.name = \"\"\n",
    "df_IES_pivot.columns = [\"Value_\" + str(s) for s in df_IES_pivot.columns]"
   ]
  },
  {
   "cell_type": "code",
   "execution_count": 20,
   "id": "44112364",
   "metadata": {},
   "outputs": [
    {
     "data": {
      "image/png": "[encoded data removed]",
      "text/plain": [
       "<Figure size 800x300 with 4 Axes>"
      ]
     },
     "metadata": {},
     "output_type": "display_data"
    }
   ],
   "source": [
    "fig, ax = plt.subplots(1, number_of_ies_iterations + 1)\n",
    "fig.set_size_inches(8, 3)\n",
    "df_IES_pivot.hist(ax=ax)\n",
    "fig.tight_layout()"
   ]
  },
  {
   "cell_type": "markdown",
   "id": "dd232fb8",
   "metadata": {},
   "source": [
    "## Running ERT's implementation of IES"
   ]
  },
  {
   "cell_type": "code",
   "execution_count": 21,
   "id": "a05958e9",
   "metadata": {},
   "outputs": [
    {
     "data": {
      "application/vnd.jupyter.widget-view+json": {
       "model_id": "71c5035bc8534447af20908ac9e7f4f4",
       "version_major": 2,
       "version_minor": 0
      },
      "text/plain": [
       "Running forward model.:   0%|          | 0/50 [00:00<?, ?it/s]"
      ]
     },
     "metadata": {},
     "output_type": "display_data"
    },
    {
     "name": "stdout",
     "output_type": "stream",
     "text": [
      "339 measurements will be deactivated.\n"
     ]
    },
    {
     "data": {
      "application/vnd.jupyter.widget-view+json": {
       "model_id": "b07007a4391b4e6398d5807dd1a2603b",
       "version_major": 2,
       "version_minor": 0
      },
      "text/plain": [
       "Running forward model.:   0%|          | 0/50 [00:00<?, ?it/s]"
      ]
     },
     "metadata": {},
     "output_type": "display_data"
    },
    {
     "name": "stdout",
     "output_type": "stream",
     "text": [
      "942 measurements will be deactivated.\n"
     ]
    },
    {
     "data": {
      "application/vnd.jupyter.widget-view+json": {
       "model_id": "7ce3b9f795b64326a3f8f7c4c45ecb16",
       "version_major": 2,
       "version_minor": 0
      },
      "text/plain": [
       "Running forward model.:   0%|          | 0/50 [00:00<?, ?it/s]"
      ]
     },
     "metadata": {},
     "output_type": "display_data"
    },
    {
     "name": "stdout",
     "output_type": "stream",
     "text": [
      "1428 measurements will be deactivated.\n"
     ]
    }
   ],
   "source": [
    "for i in range(number_of_ies_iterations):\n",
    "\n",
    "    # Step length in Gauss Newton\n",
    "    gamma = get_steplength(i)\n",
    "\n",
    "    fwd_runs = p_map(\n",
    "        pde.burgers,\n",
    "        [nx] * N,\n",
    "        [ny] * N,\n",
    "        [k_end] * N,\n",
    "        A_IES_ert.ravel(),\n",
    "        desc=f\"Running forward model.\",\n",
    "    )\n",
    "\n",
    "    Y = np.array(\n",
    "        [\n",
    "            fwd_run[\n",
    "                d.index.get_level_values(\"k\").to_list(),\n",
    "                d.index.get_level_values(\"y\").to_list(),\n",
    "                d.index.get_level_values(\"x\").to_list(),\n",
    "            ]\n",
    "            for fwd_run in fwd_runs\n",
    "        ]\n",
    "    ).T\n",
    "\n",
    "    assert Y.shape == (\n",
    "        m,\n",
    "        N,\n",
    "    ), \"Measured responses must be a matrix with dimensions (number of observations x number of realisations)\"\n",
    "\n",
    "    # We expect that a certain number of points gets deactivated,\n",
    "    # since not all cells are changing values due to the way the model works.\n",
    "    enough_ens_var_idx = Y.var(axis=1) > 1e-6\n",
    "    print(f\"{list(enough_ens_var_idx).count(False)} measurements will be deactivated.\")\n",
    "    Y = Y[enough_ens_var_idx, :]\n",
    "\n",
    "    A_IES_ert = IterativeEnsembleSmoother(N).update_step(\n",
    "        Y,\n",
    "        A_IES_ert.reshape(1, -1),\n",
    "        d.sd.values[enough_ens_var_idx],\n",
    "        d.value.values[enough_ens_var_idx],\n",
    "        step_length=gamma,\n",
    "    )\n",
    "\n",
    "    df_iter = pd.DataFrame(\n",
    "        {\"Iteration\": [i + 1] * len(A_IES_ert.ravel()), \"Value\": A_IES_ert.ravel()}\n",
    "    )\n",
    "    df_IES_ert = pd.concat([df_IES_ert, df_iter])"
   ]
  },
  {
   "cell_type": "code",
   "execution_count": 22,
   "id": "03b7a610",
   "metadata": {},
   "outputs": [],
   "source": [
    "df_IES_ert_pivot = df_IES_ert.pivot(columns=\"Iteration\", values=\"Value\")\n",
    "df_IES_ert_pivot.columns.name = \"\"\n",
    "df_IES_ert_pivot.columns = [\"Value_\" + str(s) for s in df_IES_ert_pivot.columns]"
   ]
  },
  {
   "cell_type": "code",
   "execution_count": 23,
   "id": "79eb632a",
   "metadata": {},
   "outputs": [
    {
     "data": {
      "image/png": "[encoded data removed]",
      "text/plain": [
       "<Figure size 800x300 with 4 Axes>"
      ]
     },
     "metadata": {},
     "output_type": "display_data"
    }
   ],
   "source": [
    "fig, ax = plt.subplots(1, number_of_ies_iterations + 1)\n",
    "fig.set_size_inches(8, 3)\n",
    "df_IES_pivot.hist(ax=ax)\n",
    "fig.tight_layout()"
   ]
  },
  {
   "cell_type": "markdown",
   "id": "189badd6",
   "metadata": {},
   "source": [
    "##  Ensemble Smoother with Multiple Data Assimilation (ES-MDA)"
   ]
  },
  {
   "cell_type": "code",
   "execution_count": 24,
   "id": "3c669534",
   "metadata": {},
   "outputs": [],
   "source": [
    "weights = [4, 2, 1]"
   ]
  },
  {
   "cell_type": "code",
   "execution_count": 25,
   "id": "360ca49a",
   "metadata": {},
   "outputs": [],
   "source": [
    "# Same function is used in ERT.\n",
    "from typing import List\n",
    "\n",
    "\n",
    "def normalize_weights(weights: List[float]) -> List[float]:\n",
    "    \"\"\"Scale weights such that their reciprocals sum to 1.0,\n",
    "    i.e., sum(1.0 / x for x in weights) == 1.0.\n",
    "    See for example Equation 38 of evensen2018 - Analysis of iterative\n",
    "    ensemble smoothers for solving inverse problems.\n",
    "    \"\"\"\n",
    "    if not weights:\n",
    "        return []\n",
    "    weights = [weight for weight in weights if abs(weight) != 0.0]\n",
    "\n",
    "    length = sum(1.0 / x for x in weights)\n",
    "    return [x * length for x in weights]"
   ]
  },
  {
   "cell_type": "code",
   "execution_count": 26,
   "id": "15a6d40a",
   "metadata": {},
   "outputs": [],
   "source": [
    "normalized_weights = normalize_weights(weights)"
   ]
  },
  {
   "cell_type": "code",
   "execution_count": 27,
   "id": "76290c2c",
   "metadata": {},
   "outputs": [
    {
     "data": {
      "application/vnd.jupyter.widget-view+json": {
       "model_id": "842e494fd4e8481080d7002ae222e4c1",
       "version_major": 2,
       "version_minor": 0
      },
      "text/plain": [
       "Running forward model.:   0%|          | 0/50 [00:00<?, ?it/s]"
      ]
     },
     "metadata": {},
     "output_type": "display_data"
    },
    {
     "name": "stdout",
     "output_type": "stream",
     "text": [
      "339 measurements will be deactivated.\n"
     ]
    },
    {
     "data": {
      "application/vnd.jupyter.widget-view+json": {
       "model_id": "60fb2a7a3fa14c34b6f443b8225d2229",
       "version_major": 2,
       "version_minor": 0
      },
      "text/plain": [
       "Running forward model.:   0%|          | 0/50 [00:00<?, ?it/s]"
      ]
     },
     "metadata": {},
     "output_type": "display_data"
    },
    {
     "name": "stdout",
     "output_type": "stream",
     "text": [
      "2496 measurements will be deactivated.\n"
     ]
    },
    {
     "data": {
      "application/vnd.jupyter.widget-view+json": {
       "model_id": "c6b03d980cd3465b86188c6cd966c6bf",
       "version_major": 2,
       "version_minor": 0
      },
      "text/plain": [
       "Running forward model.:   0%|          | 0/50 [00:00<?, ?it/s]"
      ]
     },
     "metadata": {},
     "output_type": "display_data"
    },
    {
     "name": "stdout",
     "output_type": "stream",
     "text": [
      "3752 measurements will be deactivated.\n"
     ]
    }
   ],
   "source": [
    "for i, w in enumerate(normalized_weights):\n",
    "    fwd_runs = p_map(\n",
    "        pde.burgers,\n",
    "        [nx] * N,\n",
    "        [ny] * N,\n",
    "        [k_end] * N,\n",
    "        A_ESMDA,\n",
    "        desc=f\"Running forward model.\",\n",
    "    )\n",
    "\n",
    "    # Assume diagonal ensemble covariance matrix for the measurement perturbations.\n",
    "    # Inflating measurement errors by a factor sqrt(normalized_weights) as shown\n",
    "    # in for example evensen2018 - Analysis of iterative ensemble smoothers for solving inverse problems.\n",
    "    Cdd = np.diag((d.sd.values * np.sqrt(w)) ** 2)\n",
    "\n",
    "    # 9.4 Ensemble representation for measurements\n",
    "    E = rng.multivariate_normal(mean=np.zeros(len(Cdd)), cov=Cdd, size=N).T\n",
    "    E = E - E.mean(axis=1, keepdims=True)\n",
    "    assert E.shape == (m, N)\n",
    "\n",
    "    D = np.ones((m, N)) * d.value.values.reshape(-1, 1) + E\n",
    "\n",
    "    Y = np.array(\n",
    "        [\n",
    "            fwd_run[\n",
    "                d.index.get_level_values(\"k\").to_list(),\n",
    "                d.index.get_level_values(\"y\").to_list(),\n",
    "                d.index.get_level_values(\"x\").to_list(),\n",
    "            ]\n",
    "            for fwd_run in fwd_runs\n",
    "        ]\n",
    "    ).T\n",
    "\n",
    "    assert Y.shape == (\n",
    "        m,\n",
    "        N,\n",
    "    ), \"Measured responses must be a matrix with dimensions (number of observations x number of realisations)\"\n",
    "\n",
    "    # We expect that a certain number of points gets deactivated,\n",
    "    # since not all cells are changing values due to the way the model works.\n",
    "    enough_ens_var_idx = Y.var(axis=1) > 1e-6\n",
    "    print(f\"{list(enough_ens_var_idx).count(False)} measurements will be deactivated.\")\n",
    "    Y = Y[enough_ens_var_idx, :]\n",
    "    D = D[enough_ens_var_idx, :]\n",
    "    Cdd = Cdd[enough_ens_var_idx, :]\n",
    "    Cdd = Cdd[:, enough_ens_var_idx]\n",
    "\n",
    "    X_ESMDA = analysis.ES(Y, D, Cdd)\n",
    "    A_ESMDA = A_ESMDA @ X_ESMDA\n",
    "\n",
    "    df_iter = pd.DataFrame(\n",
    "        {\"Iteration\": [i + 1] * len(A_ESMDA.ravel()), \"Value\": A_ESMDA.ravel()}\n",
    "    )\n",
    "    df_ESMDA = pd.concat([df_ESMDA, df_iter])"
   ]
  },
  {
   "cell_type": "code",
   "execution_count": 28,
   "id": "d07fe8cd",
   "metadata": {},
   "outputs": [],
   "source": [
    "df_ESMDA_pivot = df_ESMDA.pivot(columns=\"Iteration\", values=\"Value\")\n",
    "df_ESMDA_pivot.columns.name = \"\"\n",
    "df_ESMDA_pivot.columns = [\"Value_\" + str(s) for s in df_ESMDA_pivot.columns]"
   ]
  },
  {
   "cell_type": "code",
   "execution_count": 29,
   "id": "71f0c6c4",
   "metadata": {},
   "outputs": [
    {
     "data": {
      "image/png": "[encoded data removed]",
      "text/plain": [
       "<Figure size 800x300 with 4 Axes>"
      ]
     },
     "metadata": {},
     "output_type": "display_data"
    }
   ],
   "source": [
    "fig, ax = plt.subplots(1, len(normalized_weights) + 1)\n",
    "fig.suptitle(\"ES-MDA\")\n",
    "fig.set_size_inches(8, 3)\n",
    "df_ESMDA_pivot.hist(ax=ax)\n",
    "fig.tight_layout()"
   ]
  },
  {
   "cell_type": "code",
   "execution_count": 30,
   "id": "63eb94f1",
   "metadata": {},
   "outputs": [
    {
     "data": {
      "image/png": "[encoded data removed]",
      "text/plain": [
       "<Figure size 800x300 with 4 Axes>"
      ]
     },
     "metadata": {},
     "output_type": "display_data"
    }
   ],
   "source": [
    "fig, ax = plt.subplots(1, number_of_ies_iterations + 1)\n",
    "fig.suptitle(\"IES\")\n",
    "fig.set_size_inches(8, 3)\n",
    "df_IES_pivot.hist(ax=ax)\n",
    "fig.tight_layout()"
   ]
  },
  {
   "cell_type": "code",
   "execution_count": null,
   "id": "70f88bd8",
   "metadata": {},
   "outputs": [],
   "source": []
  }
 ],
 "metadata": {
  "jupytext": {
   "formats": "ipynb,py:percent"
  },
  "kernelspec": {
   "display_name": "Python 3 (ipykernel)",
   "language": "python",
   "name": "python3"
  },
  "language_info": {
   "codemirror_mode": {
    "name": "ipython",
    "version": 3
   },
   "file_extension": ".py",
   "mimetype": "text/x-python",
   "name": "python",
   "nbconvert_exporter": "python",
   "pygments_lexer": "ipython3",
   "version": "3.9.14"
  }
 },
 "nbformat": 4,
 "nbformat_minor": 5
}
