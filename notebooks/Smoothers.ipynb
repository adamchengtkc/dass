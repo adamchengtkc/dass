{
 "cells": [
  {
   "cell_type": "markdown",
   "id": "f9a2b8f5",
   "metadata": {},
   "source": [
    "# How-to estimate parameters using the smoothers ES and IES\n",
    "\n",
    "**Note about notation**\n",
    "\n",
    "The implementation of ES is based on section 9.5 of [1] (see README for references), while the implementation of IES is based on [2].\n",
    "The notation used in the two papers differ slightly, so we have made a few tweaks to make them more similar.\n",
    "\n",
    "- $A$ is used for the prior ensemble. (It's $X$ in [2])\n",
    "- $E$ is not divided by $\\sqrt{N-1}$ as is done in [2], which means that we do not multiply $E$ by $\\sqrt{N-1}$ in the definition of $E$.\n",
    "- We do not use $EE^T / (N-1)$ to estimate the parameter covariance matrix, because we assume a diagonal observation error covariance matrix $C_{dd}$.\n",
    "We instead scale matrices used in the analysis step such that $C_{dd}$ becomes the identity matrix.\n",
    "This is what is known as exact inversion.\n",
    "- $Y$ is used to hold measured responses, which are predictions made by the dynamical model at points in time and space for which we have observations."
   ]
  },
  {
   "cell_type": "code",
   "execution_count": null,
   "id": "2f837dbd",
   "metadata": {},
   "outputs": [],
   "source": [
    "import numpy as np\n",
    "\n",
    "np.set_printoptions(suppress=True)\n",
    "rng = np.random.default_rng()\n",
    "\n",
    "import matplotlib.pyplot as plt\n",
    "\n",
    "plt.rcParams[\"figure.figsize\"] = (8, 8)\n",
    "plt.rcParams.update({\"font.size\": 12})\n",
    "from ipywidgets import interact\n",
    "import ipywidgets as widgets\n",
    "\n",
    "from p_tqdm import p_map\n",
    "\n",
    "from scipy.ndimage import gaussian_filter"
   ]
  },
  {
   "cell_type": "code",
   "execution_count": null,
   "id": "56ef214d",
   "metadata": {},
   "outputs": [],
   "source": [
    "%load_ext autoreload\n",
    "%autoreload 2\n",
    "from dass import pde, utils, analysis, taper"
   ]
  },
  {
   "cell_type": "markdown",
   "id": "d93ee69f",
   "metadata": {},
   "source": [
    "## Define parameters, set true initial conditions and calculate the true temperature field"
   ]
  },
  {
   "cell_type": "code",
   "execution_count": null,
   "id": "2fae7cdb",
   "metadata": {},
   "outputs": [],
   "source": [
    "# Number of grid-cells in x and y direction\n",
    "nx = 50\n",
    "\n",
    "# time steps\n",
    "k_start = 0\n",
    "k_end = 1000\n",
    "\n",
    "dx = 1\n",
    "\n",
    "# Set the coefficient of heat transfer for each grid cell.\n",
    "# alpha_t = np.ones((nx, nx)) * 8.25\n",
    "# Using trick from page 15 of An Introduction to the Numerics of Flow in Porous Media using Matlab.\n",
    "# It's a nice way to generate realistic-looking parameter fields.\n",
    "alpha_t = np.exp(5 * gaussian_filter(gaussian_filter(rng.random(size=(nx, nx)), sigma=2.0), sigma=1.0))\n",
    "\n",
    "# Calculate maximum `dt`.\n",
    "# If higher values are used, the numerical solution will become unstable.\n",
    "# Choose `alpha` used here based on the maximum `alpha` that will be used in prior.\n",
    "dt = dx**2 / (4 * np.max(alpha_t))\n",
    "\n",
    "# True initial temperature field.\n",
    "u_top = 100.0\n",
    "u_left = 0.0\n",
    "u_bottom = 0.0\n",
    "u_right = 0.0\n",
    "u = np.empty((k_end, nx, nx))\n",
    "u.fill(0.0)\n",
    "# Set the boundary conditions\n",
    "u[:, (nx - 1) :, :] = u_top\n",
    "u[:, :, :1] = u_left\n",
    "u[:, :1, 1:] = u_bottom\n",
    "u[:, :, (nx - 1) :] = u_right\n",
    "\n",
    "# How much noise to add to heat equation.\n",
    "scale = 0.1\n",
    "\n",
    "u = pde.heat_equation(u, alpha_t, dx, dt, k_start, k_end, rng=rng, scale=scale)"
   ]
  },
  {
   "cell_type": "markdown",
   "id": "47d303d9",
   "metadata": {},
   "source": [
    "# How-to create animation (Press `y` to convert from markdown to code)\n",
    "\n",
    "import matplotlib.animation as animation\n",
    "from matplotlib.animation import FuncAnimation\n",
    "\n",
    "fig, ax = plt.subplots()\n",
    "p = ax.pcolormesh(u[0], cmap=plt.cm.jet, vmin=-150, vmax=150)\n",
    "fig.colorbar(p)\n",
    "\n",
    "def animate(k):\n",
    "    return p.set_array(u[k])\n",
    "\n",
    "anim = animation.FuncAnimation(\n",
    "    fig, animate, interval=1, frames=k_end, repeat=False\n",
    ")\n",
    "anim.save(\"heat_equation_solution.gif\", writer=\"imagemagick\")"
   ]
  },
  {
   "cell_type": "markdown",
   "id": "5e4e6dfb",
   "metadata": {},
   "source": [
    "## Plot every cells' heat transfer coefficient, i.e., the parameter field"
   ]
  },
  {
   "cell_type": "code",
   "execution_count": null,
   "id": "5dce6219",
   "metadata": {},
   "outputs": [],
   "source": [
    "fig, ax = plt.subplots()\n",
    "fig.suptitle(\"True parameter field\")\n",
    "p = ax.pcolormesh(alpha_t)\n",
    "utils.colorbar(p)\n",
    "fig.tight_layout()"
   ]
  },
  {
   "cell_type": "markdown",
   "id": "513ae781",
   "metadata": {},
   "source": [
    "## Interactive plot of true temperature field\n",
    "\n",
    "Shows how temperature changes with time."
   ]
  },
  {
   "cell_type": "code",
   "execution_count": null,
   "id": "c052fb6f",
   "metadata": {},
   "outputs": [],
   "source": [
    "def interactive_truth(k):\n",
    "    fig, ax = plt.subplots()\n",
    "    fig.suptitle(\"True temperature field\")\n",
    "    p = ax.pcolormesh(u[k], vmin=0, vmax=100)\n",
    "    ax.set_title(f\"k = {k}\")\n",
    "    utils.colorbar(p)\n",
    "    fig.tight_layout()\n",
    "\n",
    "\n",
    "interact(\n",
    "    interactive_truth,\n",
    "    k=widgets.IntSlider(min=k_start, max=k_end - 1, step=1, value=0),\n",
    ")"
   ]
  },
  {
   "cell_type": "markdown",
   "id": "1f0d53c9",
   "metadata": {},
   "source": [
    "## Define placement of sensors and generate synthetic observations based on the true temperature field"
   ]
  },
  {
   "cell_type": "code",
   "execution_count": null,
   "id": "4118c33d",
   "metadata": {},
   "outputs": [],
   "source": [
    "# placement of sensors, i.e, where the observations are done\n",
    "pad = 1\n",
    "coords = np.array([(x, y) for x in range(pad, nx - pad) for y in range(pad, nx - pad)])\n",
    "ncoords = coords.shape[0]\n",
    "nmeas = 100\n",
    "coords_idx = np.random.choice(np.arange(ncoords), size=nmeas, replace=False)\n",
    "obs_coordinates = [utils.Coordinate(xc, yc) for xc, yc in coords[coords_idx]]\n",
    "\n",
    "# At which times observations are taken\n",
    "obs_times = np.linspace(5, k_end, 50, endpoint=False, dtype=int)\n",
    "\n",
    "d = utils.observations(obs_coordinates, obs_times, u)\n",
    "# number of measurements\n",
    "m = d.shape[0]\n",
    "print(\"Number of observations: \", m)\n",
    "\n",
    "# Plot temperature field and show placement of sensors.\n",
    "obs_coordinates = set(zip(d.index.get_level_values(\"x\"), d.index.get_level_values(\"y\")))\n",
    "x, y = zip(*obs_coordinates)\n",
    "\n",
    "fig, ax = plt.subplots()\n",
    "p = ax.pcolormesh(u[-1], cmap=plt.cm.viridis, vmin=0, vmax=100)\n",
    "ax.set_title(\"True temperature field with sensor placement\")\n",
    "utils.colorbar(p)\n",
    "ax.plot([i + 0.5 for i in x], [j + 0.5 for j in y], \"s\", color=\"white\", markersize=5)"
   ]
  },
  {
   "cell_type": "markdown",
   "id": "b79429d7",
   "metadata": {},
   "source": [
    "# Ensemble Smoother (ES) and Iterative Ensemble Smoother (IES)"
   ]
  },
  {
   "cell_type": "code",
   "execution_count": null,
   "id": "e35f7a42",
   "metadata": {},
   "outputs": [],
   "source": [
    "# Number of realisations\n",
    "N = 100"
   ]
  },
  {
   "cell_type": "markdown",
   "id": "983cd6e2",
   "metadata": {},
   "source": [
    "## Define random seeds because multiprocessing\n",
    "\n",
    "https://numpy.org/doc/stable/reference/random/parallel.html#seedsequence-spawning"
   ]
  },
  {
   "cell_type": "code",
   "execution_count": null,
   "id": "00986c0d",
   "metadata": {},
   "outputs": [],
   "source": [
    "ss = np.random.SeedSequence(12345)\n",
    "child_seeds = ss.spawn(N)\n",
    "streams = [np.random.default_rng(s) for s in child_seeds]"
   ]
  },
  {
   "cell_type": "markdown",
   "id": "2251cbd6",
   "metadata": {},
   "source": [
    "## Define parameters to run different realisations with, aka the prior"
   ]
  },
  {
   "cell_type": "code",
   "execution_count": null,
   "id": "0170d90d",
   "metadata": {},
   "outputs": [],
   "source": [
    "# List of matrices of size (nx, nx) containing priors.\n",
    "# The reason for having a list is that `p_map` requires it.\n",
    "# `p_map` runs stuff in parallel.\n",
    "alphas = []\n",
    "for i in range(N):\n",
    "    #alpha = np.ones(shape=(nx, nx)) * rng.uniform(low=0.1, high=10.0)\n",
    "    alpha = np.exp(5 * gaussian_filter(gaussian_filter(rng.random(size=(nx, nx)), sigma=2.0), sigma=1.0))\n",
    "    alphas.append(alpha)\n",
    "\n",
    "# Evensens' formulation of the Ensemble Smoother has the prior as\n",
    "# an (nx * nx, N) matrix, i.ie (number of parameters, N).\n",
    "A = np.zeros(shape=(nx * nx, N))\n",
    "for e in range(N):\n",
    "    A[:, e] = alphas[e].ravel()"
   ]
  },
  {
   "cell_type": "markdown",
   "id": "aa4ee939",
   "metadata": {},
   "source": [
    "## Interactive plot of prior parameter fields\n",
    "\n",
    "We will search for solutions in the space spanned by the prior parameter fields"
   ]
  },
  {
   "cell_type": "code",
   "execution_count": null,
   "id": "6824fa24",
   "metadata": {},
   "outputs": [],
   "source": [
    "def interactive_prior_fields(n):\n",
    "    fig, ax = plt.subplots()\n",
    "    fig.suptitle(f\"Prior field {n}\")\n",
    "    p = ax.pcolormesh(alphas[n])\n",
    "    utils.colorbar(p)\n",
    "    fig.tight_layout()\n",
    "\n",
    "\n",
    "interact(\n",
    "    interactive_prior_fields,\n",
    "    n=widgets.IntSlider(min=0, max=N - 1, step=1, value=0),\n",
    ")"
   ]
  },
  {
   "cell_type": "markdown",
   "id": "e2b02d1d",
   "metadata": {},
   "source": [
    "## Run forward model (heat equation) `N` times"
   ]
  },
  {
   "cell_type": "code",
   "execution_count": null,
   "id": "4e24d8ed",
   "metadata": {},
   "outputs": [],
   "source": [
    "dt = dx**2 / (4 * np.max(A))\n",
    "fwd_runs = p_map(\n",
    "    pde.heat_equation,\n",
    "    [u] * N,\n",
    "    alphas,\n",
    "    [dx] * N,\n",
    "    [dt] * N,\n",
    "    [k_start] * N,\n",
    "    [k_end] * N,\n",
    "    streams,\n",
    "    [scale] * N,\n",
    "    desc=f\"Running forward model.\",\n",
    ")"
   ]
  },
  {
   "cell_type": "markdown",
   "id": "51213b21",
   "metadata": {},
   "source": [
    "## Interactive plot of single realisations"
   ]
  },
  {
   "cell_type": "code",
   "execution_count": null,
   "id": "8591e862",
   "metadata": {},
   "outputs": [],
   "source": [
    "def interactive_realisations(k, n):\n",
    "    fig, ax = plt.subplots()\n",
    "    fig.suptitle(f\"Temperature field for realisation {n}\")\n",
    "    p = ax.pcolormesh(fwd_runs[n][k], vmin=0, vmax=100)\n",
    "    ax.set_title(f\"k = {k}\")\n",
    "    utils.colorbar(p)\n",
    "    fig.tight_layout()\n",
    "\n",
    "\n",
    "interact(\n",
    "    interactive_realisations,\n",
    "    k=widgets.IntSlider(min=k_start, max=k_end - 1, step=1, value=0),\n",
    "    n=widgets.IntSlider(min=0, max=N - 1, step=1, value=0),\n",
    ")"
   ]
  },
  {
   "cell_type": "markdown",
   "id": "3c78a74a",
   "metadata": {},
   "source": [
    "## Ensemble representation for measurements (Section 9.4 of [1])\n",
    "\n",
    "Note that Evensen calls measurements what ERT calls observations."
   ]
  },
  {
   "cell_type": "code",
   "execution_count": null,
   "id": "cde49a43",
   "metadata": {},
   "outputs": [],
   "source": [
    "# Assume diagonal ensemble covariance matrix for the measurement perturbations.\n",
    "# NB! Big assumption.\n",
    "Cdd = np.diag(d.sd.values**2)\n",
    "\n",
    "# 9.4 Ensemble representation for measurements\n",
    "E = rng.multivariate_normal(mean=np.zeros(len(Cdd)), cov=Cdd, size=N).T\n",
    "E = E - E.mean(axis=1, keepdims=True)\n",
    "assert E.shape == (m, N)\n",
    "\n",
    "# We will not use the sample covariance Cee, and instead use Cdd directly.\n",
    "# It is not clear to us why Cee is proposed used.\n",
    "# Cee = (E @ E.T) / (N - 1)\n",
    "\n",
    "D = np.ones((m, N)) * d.value.values.reshape(-1, 1) + E"
   ]
  },
  {
   "cell_type": "markdown",
   "id": "f231fbca",
   "metadata": {},
   "source": [
    "## Measure model response at points in time and space where we have observations"
   ]
  },
  {
   "cell_type": "code",
   "execution_count": null,
   "id": "d8c60711",
   "metadata": {},
   "outputs": [],
   "source": [
    "Y = np.array(\n",
    "    [\n",
    "        fwd_run[\n",
    "            d.index.get_level_values(\"k\").to_list(),\n",
    "            d.index.get_level_values(\"y\").to_list(),\n",
    "            d.index.get_level_values(\"x\").to_list(),\n",
    "        ]\n",
    "        for fwd_run in fwd_runs\n",
    "    ]\n",
    ").T\n",
    "\n",
    "assert Y.shape == (\n",
    "    m,\n",
    "    N,\n",
    "), \"Measured responses must be a matrix with dimensions (number of observations x number of realisations)\""
   ]
  },
  {
   "cell_type": "markdown",
   "id": "31d8d920",
   "metadata": {},
   "source": [
    "## Perform ES update"
   ]
  },
  {
   "cell_type": "code",
   "execution_count": null,
   "id": "43d5eac9",
   "metadata": {},
   "outputs": [],
   "source": [
    "X = analysis.ES(Y, D, Cdd)\n",
    "A_ES = A @ X"
   ]
  },
  {
   "cell_type": "code",
   "execution_count": null,
   "id": "35b543bb",
   "metadata": {},
   "outputs": [],
   "source": [
    "# The update may give non-physical parameter values, which here means negative heat conductivity.\n",
    "# Setting negative values to a small positive value but not zero because we want to be able to divide by them.\n",
    "A_ES = A_ES.clip(min=1e-8)"
   ]
  },
  {
   "cell_type": "markdown",
   "id": "e37beab6",
   "metadata": {},
   "source": [
    "## Compare prior and posterior of ES"
   ]
  },
  {
   "cell_type": "code",
   "execution_count": null,
   "id": "dfb4f000",
   "metadata": {},
   "outputs": [],
   "source": [
    "fig, ax = plt.subplots()\n",
    "fig.suptitle(f\"Prior mean parameter field\")\n",
    "p = ax.pcolormesh(A.mean(axis=1).reshape(nx, nx))\n",
    "utils.colorbar(p)\n",
    "fig.tight_layout()"
   ]
  },
  {
   "cell_type": "code",
   "execution_count": null,
   "id": "8927afc6",
   "metadata": {},
   "outputs": [],
   "source": [
    "fig, ax = plt.subplots()\n",
    "fig.suptitle(f\"Posterior mean parameter field\")\n",
    "p = ax.pcolormesh(A_ES.mean(axis=1).reshape(nx, nx))\n",
    "utils.colorbar(p)\n",
    "fig.tight_layout()"
   ]
  },
  {
   "cell_type": "code",
   "execution_count": null,
   "id": "c8b4c101",
   "metadata": {},
   "outputs": [],
   "source": [
    "fig, ax = plt.subplots()\n",
    "fig.suptitle(f\"True parameter field\")\n",
    "p = ax.pcolormesh(alpha_t)\n",
    "utils.colorbar(p)\n",
    "fig.tight_layout()"
   ]
  },
  {
   "cell_type": "markdown",
   "id": "9b4d263a",
   "metadata": {},
   "source": [
    "## Run forward model again but now with posterior conductivity fields"
   ]
  },
  {
   "cell_type": "code",
   "execution_count": null,
   "id": "06ed8b13",
   "metadata": {},
   "outputs": [],
   "source": [
    "alphas_posterior = [A_ES[:, i].reshape(nx, nx) for i in range(N)]"
   ]
  },
  {
   "cell_type": "markdown",
   "id": "7fc09567",
   "metadata": {},
   "source": [
    "## Interactive plot of posterior parameter fields"
   ]
  },
  {
   "cell_type": "code",
   "execution_count": null,
   "id": "da3029a9",
   "metadata": {},
   "outputs": [],
   "source": [
    "def interactive_posterior_fields(n):\n",
    "    fig, ax = plt.subplots()\n",
    "    fig.suptitle(f\"Posterior parameter field {n}\")\n",
    "    p = ax.pcolormesh(alphas_posterior[n])\n",
    "    utils.colorbar(p)\n",
    "    fig.tight_layout()\n",
    "\n",
    "\n",
    "interact(\n",
    "    interactive_posterior_fields,\n",
    "    n=widgets.IntSlider(min=0, max=N - 1, step=1, value=0),\n",
    ")"
   ]
  },
  {
   "cell_type": "code",
   "execution_count": null,
   "id": "da448160",
   "metadata": {},
   "outputs": [],
   "source": [
    "dt = dx**2 / (4 * np.max(A_ES))\n",
    "fwd_runs_posterior = p_map(\n",
    "    pde.heat_equation,\n",
    "    [u] * N,\n",
    "    alphas_posterior,\n",
    "    [dx] * N,\n",
    "    [dt] * N,\n",
    "    [k_start] * N,\n",
    "    [k_end] * N,\n",
    "    streams,\n",
    "    [scale] * N,\n",
    "    desc=f\"Running forward model.\",\n",
    ")"
   ]
  },
  {
   "cell_type": "markdown",
   "id": "6c2a86ad",
   "metadata": {},
   "source": [
    "## Interactive plot of posterior temperature fields"
   ]
  },
  {
   "cell_type": "code",
   "execution_count": null,
   "id": "f6d4c76e",
   "metadata": {},
   "outputs": [],
   "source": [
    "def interactive_posterior_temp_fields(k, n):\n",
    "    fig, ax = plt.subplots()\n",
    "    fig.suptitle(f\"Temperature field for realisation {n}\")\n",
    "    p = ax.pcolormesh(fwd_runs_posterior[n][k], vmin=0, vmax=100)\n",
    "    ax.set_title(f\"k = {k}\")\n",
    "    utils.colorbar(p)\n",
    "    fig.tight_layout()\n",
    "\n",
    "\n",
    "interact(\n",
    "    interactive_posterior_temp_fields,\n",
    "    k=widgets.IntSlider(min=k_start, max=k_end - 1, step=1, value=0),\n",
    "    n=widgets.IntSlider(min=0, max=N - 1, step=1, value=0),\n",
    ")"
   ]
  },
  {
   "cell_type": "code",
   "execution_count": null,
   "id": "ae70f393",
   "metadata": {},
   "outputs": [],
   "source": [
    "# fig, axes = plt.subplots(nrows=1, ncols=2)\n",
    "# axes[0].hist(A[0])\n",
    "# axes[1].hist(A[1])\n",
    "# fig.suptitle(\"Prior\")"
   ]
  },
  {
   "cell_type": "code",
   "execution_count": null,
   "id": "2d865838",
   "metadata": {},
   "outputs": [],
   "source": [
    "# fig, axes = plt.subplots(nrows=1, ncols=2)\n",
    "# axes[0].hist(A_ES[0])\n",
    "# axes[1].hist(A_ES[1])\n",
    "# fig.suptitle(\"Posterior\")"
   ]
  },
  {
   "cell_type": "markdown",
   "id": "47f6c07f",
   "metadata": {},
   "source": [
    "# IES"
   ]
  },
  {
   "cell_type": "code",
   "execution_count": null,
   "id": "88467808",
   "metadata": {},
   "outputs": [],
   "source": [
    "# Step length in Gauss Newton\n",
    "gamma = 1.0\n",
    "\n",
    "# Line 2 of `Algorithm 1`.\n",
    "\n",
    "# Coefficient matrix as defined in Eq. 16 and Eq. 17.\n",
    "W = np.zeros(shape=(N, N))\n",
    "\n",
    "# Equivalent to X1 = X.\n",
    "Xs = [A]"
   ]
  },
  {
   "cell_type": "markdown",
   "id": "f568db80",
   "metadata": {},
   "source": [
    "## Check that single iteration of IES with step length 1.0 is the same as ES."
   ]
  },
  {
   "cell_type": "code",
   "execution_count": null,
   "id": "2ec97725",
   "metadata": {},
   "outputs": [],
   "source": [
    "W = analysis.IES(Y, D, Cdd, W, gamma)\n",
    "X_IES = np.identity(N) + W\n",
    "A_IES = A @ X_IES\n",
    "A_IES = A_IES.clip(min=1e-8)\n",
    "assert np.isclose(A_IES, A_ES).all()"
   ]
  },
  {
   "cell_type": "code",
   "execution_count": null,
   "id": "487d00cd",
   "metadata": {},
   "outputs": [],
   "source": []
  }
 ],
 "metadata": {
  "jupytext": {
   "formats": "ipynb,py:percent"
  },
  "kernelspec": {
   "display_name": "Python 3 (ipykernel)",
   "language": "python",
   "name": "python3"
  },
  "language_info": {
   "codemirror_mode": {
    "name": "ipython",
    "version": 3
   },
   "file_extension": ".py",
   "mimetype": "text/x-python",
   "name": "python",
   "nbconvert_exporter": "python",
   "pygments_lexer": "ipython3",
   "version": "3.8.13"
  }
 },
 "nbformat": 4,
 "nbformat_minor": 5
}
