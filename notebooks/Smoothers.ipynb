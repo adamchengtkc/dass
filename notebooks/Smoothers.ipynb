{
 "cells": [
  {
   "cell_type": "markdown",
   "id": "f9a2b8f5",
   "metadata": {},
   "source": [
    "# How-to estimate parameters using the smoothers ES and IES\n",
    "\n",
    "**Note about notation**\n",
    "\n",
    "The implementation of ES is based on section 9.5 of [1] (see README for references), while the implementation of IES is based on [2].\n",
    "The notation used in the two papers differ slightly, so we have made a few tweaks to make them more similar.\n",
    "\n",
    "- $A$ is used for the prior ensemble. (It's $X$ in [2])\n",
    "- $E$ is not divided by $\\sqrt{N-1}$ as is done in [2], which means that we do not multiply $E$ by $\\sqrt{N-1}$ in the definition of $E$.\n",
    "- We do not use $EE^T / (N-1)$ to estimate the parameter covariance matrix, because we assume a diagonal observation error covariance matrix $C_{dd}$.\n",
    "We instead scale matrices used in the analysis step such that $C_{dd}$ becomes the identity matrix.\n",
    "This is what is known as exact inversion.\n",
    "- $Y$ is used to hold measured responses, which are predictions made by the dynamical model at points in time and space for which we have observations."
   ]
  },
  {
   "cell_type": "code",
   "execution_count": 1,
   "id": "2f837dbd",
   "metadata": {},
   "outputs": [],
   "source": [
    "%load_ext autoreload\n",
    "\n",
    "import numpy as np\n",
    "\n",
    "np.set_printoptions(suppress=True)\n",
    "rng = np.random.default_rng()\n",
    "\n",
    "import matplotlib.pyplot as plt\n",
    "\n",
    "plt.rcParams[\"figure.figsize\"] = (8, 8)\n",
    "plt.rcParams.update({\"font.size\": 12})\n",
    "from ipywidgets import interact\n",
    "import ipywidgets as widgets\n",
    "\n",
    "from p_tqdm import p_map\n",
    "\n",
    "%autoreload 2\n",
    "from dass import pde, utils, analysis, taper"
   ]
  },
  {
   "cell_type": "markdown",
   "id": "d93ee69f",
   "metadata": {},
   "source": [
    "## Define parameters, set true initial conditions and calculate the true temperature field"
   ]
  },
  {
   "cell_type": "code",
   "execution_count": 2,
   "id": "2fae7cdb",
   "metadata": {},
   "outputs": [
    {
     "name": "stderr",
     "output_type": "stream",
     "text": [
      "100%|███████████████████████████████████████████████████████████████████████████████████████████████████████████████████████████████████████████████████████████████████████████████████████████████████████████████████████████████████████████████████████████████████| 999/999 [00:11<00:00, 83.75it/s]\n"
     ]
    }
   ],
   "source": [
    "# Number of grid-cells in x and y direction\n",
    "nx = 50\n",
    "\n",
    "# time steps\n",
    "k_start = 0\n",
    "k_end = 1000\n",
    "\n",
    "dx = 1\n",
    "\n",
    "# Set the coefficient of heat transfer for each grid cell.\n",
    "alpha_t = np.ones((nx, nx)) * 8.25\n",
    "# alpha_t[:, nx // 2 :] = 10.0\n",
    "\n",
    "# Calculate maximum `dt`.\n",
    "# If higher values are used, the numerical solution will become unstable.\n",
    "# Choose `alpha` used here based on the maximum `alpha` that will be used in prior.\n",
    "dt = dx**2 / (4 * np.max(alpha_t))\n",
    "\n",
    "# True initial temperature field.\n",
    "u_top = 100.0\n",
    "u_left = 0.0\n",
    "u_bottom = 0.0\n",
    "u_right = 0.0\n",
    "u = np.empty((k_end, nx, nx))\n",
    "u.fill(0.0)\n",
    "# Set the boundary conditions\n",
    "u[:, (nx - 1) :, :] = u_top\n",
    "u[:, :, :1] = u_left\n",
    "u[:, :1, 1:] = u_bottom\n",
    "u[:, :, (nx - 1) :] = u_right\n",
    "\n",
    "# How much noise to add to heat equation.\n",
    "scale = 0.1\n",
    "\n",
    "u = pde.heat_equation(u, alpha_t, dx, dt, k_start, k_end, rng=rng, scale=scale)"
   ]
  },
  {
   "cell_type": "markdown",
   "id": "47d303d9",
   "metadata": {},
   "source": [
    "# How-to create animation (Press `y` to convert from markdown to code)\n",
    "\n",
    "import matplotlib.animation as animation\n",
    "from matplotlib.animation import FuncAnimation\n",
    "\n",
    "fig, ax = plt.subplots()\n",
    "p = ax.pcolormesh(u[0], cmap=plt.cm.jet, vmin=-150, vmax=150)\n",
    "fig.colorbar(p)\n",
    "\n",
    "def animate(k):\n",
    "    return p.set_array(u[k])\n",
    "\n",
    "anim = animation.FuncAnimation(\n",
    "    fig, animate, interval=1, frames=k_end, repeat=False\n",
    ")\n",
    "anim.save(\"heat_equation_solution.gif\", writer=\"imagemagick\")"
   ]
  },
  {
   "cell_type": "markdown",
   "id": "513ae781",
   "metadata": {},
   "source": [
    "## Interactive plot of true temperature field"
   ]
  },
  {
   "cell_type": "code",
   "execution_count": 3,
   "id": "c052fb6f",
   "metadata": {},
   "outputs": [
    {
     "data": {
      "application/vnd.jupyter.widget-view+json": {
       "model_id": "ea2dfb4fdb3046f2a1748388debaea75",
       "version_major": 2,
       "version_minor": 0
      },
      "text/plain": [
       "interactive(children=(IntSlider(value=0, description='k', max=999), Output()), _dom_classes=('widget-interact'…"
      ]
     },
     "metadata": {},
     "output_type": "display_data"
    },
    {
     "data": {
      "text/plain": [
       "<function __main__.interactive_truth(k)>"
      ]
     },
     "execution_count": 3,
     "metadata": {},
     "output_type": "execute_result"
    }
   ],
   "source": [
    "def interactive_truth(k):\n",
    "    fig, ax = plt.subplots()\n",
    "    fig.suptitle(\"True temperature field\")\n",
    "    p = ax.pcolormesh(u[k], vmin=0, vmax=100)\n",
    "    ax.set_title(f\"k = {k}\")\n",
    "    utils.colorbar(p)\n",
    "    fig.tight_layout()\n",
    "\n",
    "\n",
    "interact(\n",
    "    interactive_truth,\n",
    "    k=widgets.IntSlider(min=k_start, max=k_end - 1, step=1, value=0),\n",
    ")"
   ]
  },
  {
   "cell_type": "markdown",
   "id": "1f0d53c9",
   "metadata": {},
   "source": [
    "## Define placement of sensors and generate synthetic observations based on the true temperature field"
   ]
  },
  {
   "cell_type": "code",
   "execution_count": 4,
   "id": "4118c33d",
   "metadata": {},
   "outputs": [
    {
     "name": "stdout",
     "output_type": "stream",
     "text": [
      "Number of observations:  50\n"
     ]
    },
    {
     "data": {
      "text/plain": [
       "[<matplotlib.lines.Line2D at 0x12b180a00>]"
      ]
     },
     "execution_count": 4,
     "metadata": {},
     "output_type": "execute_result"
    },
    {
     "data": {
      "image/png": "[encoded data removed]",
      "text/plain": [
       "<Figure size 432x288 with 2 Axes>"
      ]
     },
     "metadata": {
      "needs_background": "light"
     },
     "output_type": "display_data"
    }
   ],
   "source": [
    "# placement of sensors, i.e, where the observations are done\n",
    "#padding = int(0.15 * nx)\n",
    "#x = np.linspace(padding, nx - padding, 3, dtype=int)\n",
    "#y = np.linspace(padding, nx - padding, 3, dtype=int)\n",
    "#obs_coordinates = [utils.Coordinate(xc, yc) for xc in x for yc in y]\n",
    "\n",
    "obs_coordinates = [utils.Coordinate(nx // 2, nx // 2 + nx // 4)]\n",
    "\n",
    "# At which times observations are taken\n",
    "obs_times = np.linspace(5, k_end, 50, endpoint=False, dtype=int)\n",
    "\n",
    "d = utils.observations(obs_coordinates, obs_times, u)\n",
    "# number of measurements\n",
    "m = d.shape[0]\n",
    "print(\"Number of observations: \", m)\n",
    "\n",
    "# Plot temperature field and show placement of sensors.\n",
    "obs_coordinates = set(zip(d.index.get_level_values(\"x\"), d.index.get_level_values(\"y\")))\n",
    "x, y = zip(*obs_coordinates)\n",
    "\n",
    "fig, ax = plt.subplots()\n",
    "p = ax.pcolormesh(u[-1], cmap=plt.cm.viridis, vmin=0, vmax=100)\n",
    "ax.set_title(\"True temperature field with sensor placement\")\n",
    "utils.colorbar(p)\n",
    "ax.plot(x, y, \"s\", color=\"white\", markersize=15)"
   ]
  },
  {
   "cell_type": "markdown",
   "id": "b79429d7",
   "metadata": {},
   "source": [
    "# Ensemble Smoother (ES) and Iterative Ensemble Smoother (IES)"
   ]
  },
  {
   "cell_type": "code",
   "execution_count": 5,
   "id": "e35f7a42",
   "metadata": {},
   "outputs": [],
   "source": [
    "# Number of realisations\n",
    "N = 100"
   ]
  },
  {
   "cell_type": "markdown",
   "id": "983cd6e2",
   "metadata": {},
   "source": [
    "## Define random seeds because multiprocessing\n",
    "\n",
    "https://numpy.org/doc/stable/reference/random/parallel.html#seedsequence-spawning"
   ]
  },
  {
   "cell_type": "code",
   "execution_count": 6,
   "id": "00986c0d",
   "metadata": {},
   "outputs": [],
   "source": [
    "ss = np.random.SeedSequence(12345)\n",
    "child_seeds = ss.spawn(N)\n",
    "streams = [np.random.default_rng(s) for s in child_seeds]"
   ]
  },
  {
   "cell_type": "markdown",
   "id": "2251cbd6",
   "metadata": {},
   "source": [
    "## Define parameters to run different realisations with, aka the prior"
   ]
  },
  {
   "cell_type": "code",
   "execution_count": 7,
   "id": "0170d90d",
   "metadata": {},
   "outputs": [],
   "source": [
    "# List of matrices of size (nx, nx) containing priors.\n",
    "# The reason for having a list is that `p_map` requires it.\n",
    "# `p_map` runs stuff in parallel.\n",
    "alphas = []\n",
    "for i in range(N):\n",
    "    alpha = np.ones(shape=(nx, nx)) * rng.uniform(low=0.1, high=10.0)\n",
    "    alphas.append(alpha)\n",
    "\n",
    "# Evensens' formulation of the Ensemble Smoother has the prior as\n",
    "# an (nx * nx, N) matrix, i.ie (number of parameters, N).\n",
    "A = np.zeros(shape=(nx * nx, N))\n",
    "for e in range(N):\n",
    "    A[:, e] = alphas[e].ravel()    "
   ]
  },
  {
   "cell_type": "markdown",
   "id": "e2b02d1d",
   "metadata": {},
   "source": [
    "## Run forward model (heat equation) `N` times"
   ]
  },
  {
   "cell_type": "code",
   "execution_count": 14,
   "id": "4e24d8ed",
   "metadata": {},
   "outputs": [
    {
     "data": {
      "application/vnd.jupyter.widget-view+json": {
       "model_id": "2a7c5d4092624842b928cd08610775dd",
       "version_major": 2,
       "version_minor": 0
      },
      "text/plain": [
       "Running forward model.:   0%|          | 0/100 [00:00<?, ?it/s]"
      ]
     },
     "metadata": {},
     "output_type": "display_data"
    }
   ],
   "source": [
    "dt = dx**2 / (4 * np.max(A))\n",
    "fwd_runs = p_map(\n",
    "    pde.heat_equation,\n",
    "    [u] * N,\n",
    "    alphas,\n",
    "    [dx] * N,\n",
    "    [dt] * N,\n",
    "    [k_start] * N,\n",
    "    [k_end] * N,\n",
    "    streams,\n",
    "    [scale] * N,\n",
    "    desc=f\"Running forward model.\",\n",
    ")"
   ]
  },
  {
   "cell_type": "markdown",
   "id": "51213b21",
   "metadata": {},
   "source": [
    "## Interactive plot of single realisations"
   ]
  },
  {
   "cell_type": "code",
   "execution_count": 15,
   "id": "8591e862",
   "metadata": {},
   "outputs": [
    {
     "data": {
      "application/vnd.jupyter.widget-view+json": {
       "model_id": "45ac85ec2ba44e779387c9e65abbbc65",
       "version_major": 2,
       "version_minor": 0
      },
      "text/plain": [
       "interactive(children=(IntSlider(value=0, description='k', max=999), IntSlider(value=0, description='n', max=99…"
      ]
     },
     "metadata": {},
     "output_type": "display_data"
    },
    {
     "data": {
      "text/plain": [
       "<function __main__.interactive_realisations(k, n)>"
      ]
     },
     "execution_count": 15,
     "metadata": {},
     "output_type": "execute_result"
    }
   ],
   "source": [
    "def interactive_realisations(k, n):\n",
    "    fig, ax = plt.subplots()\n",
    "    fig.suptitle(f\"Temperature field for realisation {n}\")\n",
    "    p = ax.pcolormesh(fwd_runs[n][k], vmin=0, vmax=100)\n",
    "    ax.set_title(f\"k = {k}\")\n",
    "    utils.colorbar(p)\n",
    "    fig.tight_layout()\n",
    "\n",
    "\n",
    "interact(\n",
    "    interactive_realisations,\n",
    "    k=widgets.IntSlider(min=k_start, max=k_end - 1, step=1, value=0),\n",
    "    n=widgets.IntSlider(min=0, max=N - 1, step=1, value=0),\n",
    ")"
   ]
  },
  {
   "cell_type": "markdown",
   "id": "3c78a74a",
   "metadata": {},
   "source": [
    "## Ensemble representation for measurements (Section 9.4 of [1])\n",
    "\n",
    "Note that Evensen calls measurements what ERT calls observations."
   ]
  },
  {
   "cell_type": "code",
   "execution_count": 16,
   "id": "cde49a43",
   "metadata": {},
   "outputs": [],
   "source": [
    "# Assume diagonal ensemble covariance matrix for the measurement perturbations.\n",
    "# NB! Big assumption.\n",
    "Cdd = np.diag(d.sd.values**2)\n",
    "\n",
    "# 9.4 Ensemble representation for measurements\n",
    "E = rng.multivariate_normal(mean=np.zeros(len(Cdd)), cov=Cdd, size=N).T\n",
    "E = E - E.mean(axis=1, keepdims=True)\n",
    "assert E.shape == (m, N)\n",
    "\n",
    "# We will not use the sample covariance Cee, and instead use Cdd directly.\n",
    "# It is not clear to us why Cee is proposed used.\n",
    "# Cee = (E @ E.T) / (N - 1)\n",
    "\n",
    "D = np.ones((m, N)) * d.value.values.reshape(-1, 1) + E"
   ]
  },
  {
   "cell_type": "markdown",
   "id": "f231fbca",
   "metadata": {},
   "source": [
    "## Measure model response at points in time and space where we have observations"
   ]
  },
  {
   "cell_type": "code",
   "execution_count": 17,
   "id": "d8c60711",
   "metadata": {},
   "outputs": [],
   "source": [
    "Y = np.array(\n",
    "    [\n",
    "        fwd_run[\n",
    "            d.index.get_level_values(\"k\").to_list(),\n",
    "            d.index.get_level_values(\"y\").to_list(),\n",
    "            d.index.get_level_values(\"x\").to_list(),\n",
    "        ]\n",
    "        for fwd_run in fwd_runs\n",
    "    ]\n",
    ").T\n",
    "\n",
    "assert Y.shape == (\n",
    "    m,\n",
    "    N,\n",
    "), \"Measured responses must be a matrix with dimensions (number of observations x number of realisations)\""
   ]
  },
  {
   "cell_type": "markdown",
   "id": "31d8d920",
   "metadata": {},
   "source": [
    "## Perform ES update"
   ]
  },
  {
   "cell_type": "code",
   "execution_count": 18,
   "id": "43d5eac9",
   "metadata": {},
   "outputs": [],
   "source": [
    "X = analysis.ES(Y, D, Cdd)\n",
    "A_ES = A @ X"
   ]
  },
  {
   "cell_type": "markdown",
   "id": "e37beab6",
   "metadata": {},
   "source": [
    "## Compare prior and posterior of ES"
   ]
  },
  {
   "cell_type": "code",
   "execution_count": 19,
   "id": "2d36af2a",
   "metadata": {},
   "outputs": [
    {
     "data": {
      "text/plain": [
       "4.693624665909793"
      ]
     },
     "execution_count": 19,
     "metadata": {},
     "output_type": "execute_result"
    }
   ],
   "source": [
    "A.mean(axis=1).mean()"
   ]
  },
  {
   "cell_type": "code",
   "execution_count": 20,
   "id": "c6f12392",
   "metadata": {},
   "outputs": [
    {
     "data": {
      "text/plain": [
       "8.474612569621941"
      ]
     },
     "execution_count": 20,
     "metadata": {},
     "output_type": "execute_result"
    }
   ],
   "source": [
    "A_ES.mean(axis=1).mean()"
   ]
  },
  {
   "cell_type": "code",
   "execution_count": null,
   "id": "ae70f393",
   "metadata": {},
   "outputs": [],
   "source": [
    "# fig, axes = plt.subplots(nrows=1, ncols=2)\n",
    "# axes[0].hist(A[0])\n",
    "# axes[1].hist(A[1])\n",
    "# fig.suptitle(\"Prior\")"
   ]
  },
  {
   "cell_type": "code",
   "execution_count": null,
   "id": "2d865838",
   "metadata": {},
   "outputs": [],
   "source": [
    "# fig, axes = plt.subplots(nrows=1, ncols=2)\n",
    "# axes[0].hist(A_ES[0])\n",
    "# axes[1].hist(A_ES[1])\n",
    "# fig.suptitle(\"Posterior\")"
   ]
  },
  {
   "cell_type": "markdown",
   "id": "47f6c07f",
   "metadata": {},
   "source": [
    "# IES"
   ]
  },
  {
   "cell_type": "code",
   "execution_count": 21,
   "id": "88467808",
   "metadata": {},
   "outputs": [],
   "source": [
    "# Step length in Gauss Newton\n",
    "gamma = 1.0\n",
    "\n",
    "# Line 2 of `Algorithm 1`.\n",
    "\n",
    "# Coefficient matrix as defined in Eq. 16 and Eq. 17.\n",
    "W = np.zeros(shape=(N, N))\n",
    "\n",
    "# Equivalent to X1 = X.\n",
    "Xs = [A]"
   ]
  },
  {
   "cell_type": "markdown",
   "id": "f568db80",
   "metadata": {},
   "source": [
    "## Check that single iteration of IES with step length 1.0 is the same as ES."
   ]
  },
  {
   "cell_type": "code",
   "execution_count": 22,
   "id": "2ec97725",
   "metadata": {},
   "outputs": [],
   "source": [
    "W = analysis.IES(Y, D, Cdd, W, gamma)\n",
    "X_IES = np.identity(N) + W\n",
    "A_IES = A @ X_IES\n",
    "assert np.isclose(A_IES, A_ES).all()"
   ]
  },
  {
   "cell_type": "code",
   "execution_count": null,
   "id": "747b416c",
   "metadata": {},
   "outputs": [],
   "source": []
  }
 ],
 "metadata": {
  "jupytext": {
   "formats": "ipynb,py:percent"
  },
  "kernelspec": {
   "display_name": "Python 3 (ipykernel)",
   "language": "python",
   "name": "python3"
  },
  "language_info": {
   "codemirror_mode": {
    "name": "ipython",
    "version": 3
   },
   "file_extension": ".py",
   "mimetype": "text/x-python",
   "name": "python",
   "nbconvert_exporter": "python",
   "pygments_lexer": "ipython3",
   "version": "3.8.13"
  }
 },
 "nbformat": 4,
 "nbformat_minor": 5
}
