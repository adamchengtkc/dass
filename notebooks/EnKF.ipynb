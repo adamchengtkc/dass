{
 "cells": [
  {
   "cell_type": "markdown",
   "id": "bd543822-7c85-4a35-beba-49fa33a94ff6",
   "metadata": {},
   "source": [
    "# EnKF using 2D heat equation\n",
    "\n",
    "**Note about coordinate system**\n",
    "\n",
    "Matplotlib's `pcolormesh` follows the standard matrix convention: \"An array C with shape (nrows, ncolumns) is plotted with the column number as X and the row number as Y.\"\n",
    "\n",
    "This means that to get values at the point `(k, x, y)` of a field `u`, we must do `u[k, y, x]`."
   ]
  },
  {
   "cell_type": "code",
   "execution_count": null,
   "id": "38099d82-c622-4bfa-9660-ca1cc52d8889",
   "metadata": {},
   "outputs": [],
   "source": [
    "%load_ext autoreload"
   ]
  },
  {
   "cell_type": "code",
   "execution_count": null,
   "id": "d7f85a55-ac09-4326-be37-606a0f658137",
   "metadata": {},
   "outputs": [],
   "source": [
    "import numpy as np\n",
    "\n",
    "np.set_printoptions(suppress=True)\n",
    "rng = np.random.default_rng()\n",
    "\n",
    "import matplotlib.pyplot as plt\n",
    "\n",
    "plt.rcParams[\"figure.figsize\"] = (8, 8)\n",
    "plt.rcParams.update({\"font.size\": 12})\n",
    "from ipywidgets import interact\n",
    "import ipywidgets as widgets\n",
    "\n",
    "from p_tqdm import p_map"
   ]
  },
  {
   "cell_type": "code",
   "execution_count": null,
   "id": "70cda3a2",
   "metadata": {},
   "outputs": [],
   "source": [
    "%autoreload 2\n",
    "from dass import pde, utils, analysis, taper"
   ]
  },
  {
   "cell_type": "markdown",
   "id": "fc39a68c",
   "metadata": {},
   "source": [
    "# EnKF\n",
    "\n",
    "Constant parameter, unknown field.\n",
    "Stop forward model at every point in time where we have observations."
   ]
  },
  {
   "cell_type": "markdown",
   "id": "d1907401",
   "metadata": {},
   "source": [
    "## Define parameters, set true initial conditions and calculate the true temperature field"
   ]
  },
  {
   "cell_type": "code",
   "execution_count": null,
   "id": "6a262c96",
   "metadata": {},
   "outputs": [],
   "source": [
    "N = 100\n",
    "\n",
    "k_start = 0\n",
    "k_end = 300\n",
    "\n",
    "# Number of grid-cells in x and y direction\n",
    "nx = 20\n",
    "\n",
    "alpha = np.ones((nx, nx)) * 5.0\n",
    "# alpha[:, nx // 2 :] = 100.0\n",
    "\n",
    "dx = 1\n",
    "dt = dx**2 / (4 * np.max(alpha))  # Max dt\n",
    "# Amount of noise in the heat equation is dependent on the value of `dt`.\n",
    "# Making this smaller adds less noise which yields less change from one step to the other.\n",
    "# dt = dt / 10.0\n",
    "\n",
    "# True initial temperature field.\n",
    "u_top = 100.0\n",
    "u_left = 0.0\n",
    "u_bottom = 0.0\n",
    "u_right = 0.0\n",
    "u = np.empty((k_end, nx, nx))\n",
    "u.fill(0.0)\n",
    "# Set the boundary conditions\n",
    "u[:, (nx - 1) :, :] = u_top\n",
    "u[:, :, :1] = u_left\n",
    "u[:, :1, 1:] = u_bottom\n",
    "u[:, :, (nx - 1) :] = u_right\n",
    "\n",
    "u = pde.heat_equation(u, alpha, dx, dt, k_start, k_end, rng=rng, scale=None)"
   ]
  },
  {
   "cell_type": "markdown",
   "id": "be1a7df7",
   "metadata": {},
   "source": [
    "## Interactive plot of true temperature field"
   ]
  },
  {
   "cell_type": "code",
   "execution_count": null,
   "id": "82a85378",
   "metadata": {},
   "outputs": [],
   "source": [
    "def interactive_truth(k):\n",
    "    fig, ax = plt.subplots()\n",
    "    fig.suptitle(\"True temperature field\")\n",
    "    p = ax.pcolormesh(u[k], vmin=0, vmax=100)\n",
    "    ax.set_title(f\"k = {k}\")\n",
    "    utils.colorbar(p)\n",
    "    fig.tight_layout()\n",
    "\n",
    "\n",
    "interact(\n",
    "    interactive_truth,\n",
    "    k=widgets.IntSlider(min=k_start, max=k_end - 1, step=1, value=0),\n",
    ")"
   ]
  },
  {
   "cell_type": "markdown",
   "id": "0acbd36e",
   "metadata": {},
   "source": [
    "## Define random seeds because multiprocessing\n",
    "\n",
    "https://numpy.org/doc/stable/reference/random/parallel.html#seedsequence-spawning"
   ]
  },
  {
   "cell_type": "code",
   "execution_count": null,
   "id": "26e91a00",
   "metadata": {},
   "outputs": [],
   "source": [
    "ss = np.random.SeedSequence(12345)\n",
    "child_seeds = ss.spawn(N)\n",
    "streams = [np.random.default_rng(s) for s in child_seeds]"
   ]
  },
  {
   "cell_type": "markdown",
   "id": "4a6f06a3",
   "metadata": {},
   "source": [
    "## Generate truth and observations based on truth"
   ]
  },
  {
   "cell_type": "code",
   "execution_count": null,
   "id": "3770111b",
   "metadata": {},
   "outputs": [],
   "source": [
    "u = pde.heat_equation(\n",
    "    u, alpha, dx, dt, k_start, k_end, np.random.default_rng(12345), np.sqrt(dt)\n",
    ")\n",
    "\n",
    "# placement of sensors, i.e, where the observations are done\n",
    "# padding = int(0.15 * nx)\n",
    "# x = np.linspace(padding, nx - padding, 3, dtype=int)\n",
    "# y = np.linspace(padding, nx - padding, 3, dtype=int)\n",
    "# obs_coordinates = [utils.Coordinate(xc, yc) for xc in x for yc in y]\n",
    "\n",
    "obs_coordinates = [utils.Coordinate(nx // 2, nx - 2)]\n",
    "\n",
    "# At which times observations are taken\n",
    "obs_times = np.linspace(5, k_end, 50, endpoint=False, dtype=int)\n",
    "\n",
    "d = utils.observations(obs_coordinates, obs_times, u, lambda value: abs(0.01 * value))\n",
    "# number of measurements\n",
    "m = d.shape[0]\n",
    "print(\"Number of observations: \", m)"
   ]
  },
  {
   "cell_type": "code",
   "execution_count": null,
   "id": "df9c9392",
   "metadata": {},
   "outputs": [],
   "source": [
    "# Plot temperature field and show placement of sensors.\n",
    "obs_xy = set(zip(d.index.get_level_values(\"x\"), d.index.get_level_values(\"y\")))\n",
    "x, y = zip(*obs_xy)\n",
    "\n",
    "fig, ax = plt.subplots()\n",
    "p = ax.pcolormesh(u[100], cmap=plt.cm.viridis)\n",
    "fig.colorbar(p)\n",
    "ax.plot(x, y, \"s\", color=\"white\", markersize=15)"
   ]
  },
  {
   "cell_type": "code",
   "execution_count": null,
   "id": "95bfa1bc",
   "metadata": {},
   "outputs": [],
   "source": [
    "def gen_field():\n",
    "    u = np.empty((k_end, nx, nx))\n",
    "    u.fill(0.0)\n",
    "\n",
    "    # Set the boundary conditions\n",
    "    # u[:, (nx - 1) :, :] = (u_top / 2) + rng.normal(0, 20, nx)\n",
    "    u[:, (nx - 1) :, :] = (u_top / 2) + rng.normal(0, 20)\n",
    "    u[:, :, :1] = u_left\n",
    "    u[:, :1, 1:] = u_bottom\n",
    "    u[:, :, (nx - 1) :] = u_right\n",
    "\n",
    "    return u\n",
    "\n",
    "\n",
    "fields = [gen_field() for _ in range(N)]"
   ]
  },
  {
   "cell_type": "code",
   "execution_count": null,
   "id": "e24740ee",
   "metadata": {},
   "outputs": [],
   "source": [
    "def matrix_from_fields(fields, k):\n",
    "    nx = fields[0][0].shape[0]\n",
    "    A = np.zeros(shape=(nx * nx, N))\n",
    "    for f in range(len(fields)):\n",
    "        A[:, f] = fields[f][k].ravel()\n",
    "    return A"
   ]
  },
  {
   "cell_type": "code",
   "execution_count": null,
   "id": "bd21ef2f",
   "metadata": {},
   "outputs": [],
   "source": [
    "d.index.get_level_values(\"k\").unique()"
   ]
  },
  {
   "cell_type": "markdown",
   "id": "7786d444",
   "metadata": {},
   "source": [
    "## Plot tapering function used for localisation"
   ]
  },
  {
   "cell_type": "code",
   "execution_count": null,
   "id": "625c61e0",
   "metadata": {},
   "outputs": [],
   "source": [
    "fig, ax = plt.subplots()\n",
    "ax.plot(taper.gauss(np.linspace(-nx, nx), 3.0))"
   ]
  },
  {
   "cell_type": "code",
   "execution_count": null,
   "id": "dfae7f13",
   "metadata": {},
   "outputs": [],
   "source": [
    "A_no_update = {}\n",
    "localize = True\n",
    "k_start = 0\n",
    "for k_obs in d.index.get_level_values(\"k\").unique().to_list():\n",
    "    fields = p_map(\n",
    "        pde.heat_equation,\n",
    "        fields,\n",
    "        [alpha] * N,\n",
    "        [dx] * N,\n",
    "        [dt] * N,\n",
    "        [k_start] * N,\n",
    "        [k_obs + 1] * N,\n",
    "        streams,\n",
    "        [np.sqrt(dt)] * N,\n",
    "        desc=f\"Running forward model from {k_start} to {k_obs}\",\n",
    "    )\n",
    "\n",
    "    d_k = d.query(f\"k == {k_obs}\")\n",
    "    m = d_k.shape[0]\n",
    "\n",
    "    A = matrix_from_fields(fields, k_obs)\n",
    "    A_no_update[k_obs] = A.copy()\n",
    "\n",
    "    # measure response\n",
    "    Y = np.zeros(shape=(m, N))\n",
    "    for i in range(N):\n",
    "        # It's A[y, x] and not A[x, y] due to convention followed by matplotlib's pcolormesh.\n",
    "        Y[:, i] = A[:, i].reshape(nx, nx)[\n",
    "            d_k.index.get_level_values(\"y\").to_list(),\n",
    "            d_k.index.get_level_values(\"x\").to_list(),\n",
    "        ]\n",
    "\n",
    "    Cdd = np.diag(d_k.sd.values**2)\n",
    "\n",
    "    E = rng.multivariate_normal(mean=np.zeros(len(Cdd)), cov=Cdd, size=N).T\n",
    "    E = E - E.mean(axis=1, keepdims=True)\n",
    "    assert E.shape == (m, N)\n",
    "\n",
    "    D = np.ones((m, N)) * d_k.value.values.reshape(-1, 1) + E\n",
    "\n",
    "    S = Y - Y.mean(axis=1, keepdims=True)\n",
    "\n",
    "    A_centered = A - A.mean(axis=0, keepdims=True)\n",
    "    Dprime = D - Y\n",
    "\n",
    "    if localize:\n",
    "        for i in range(nx**2):\n",
    "            state_idx = np.unravel_index(i, shape=(nx, nx))\n",
    "            dist = np.sqrt(\n",
    "                (state_idx[0] - obs_coordinates[0].y) ** 2\n",
    "                + (state_idx[1] - obs_coordinates[0].x) ** 2\n",
    "            )\n",
    "            taper_coeff = taper.gauss(dist, 2.0)\n",
    "\n",
    "            K = A_centered[i, :] @ S.T @ np.linalg.pinv(S @ S.T + (N - 1) * Cdd)\n",
    "\n",
    "            # K = (\n",
    "            #    A_centered[i, :]\n",
    "            #    @ S.T\n",
    "            #    @ np.linalg.pinv(S @ S.T + (N - 1) * (1 / taper_coeff**2) * Cdd)\n",
    "            # )\n",
    "\n",
    "            A[i, :] = A[i, :] + np.sqrt(taper_coeff) * K @ (Dprime)\n",
    "    else:\n",
    "        K = A_centered @ S.T @ np.linalg.pinv(S @ S.T + (N - 1) * Cdd)\n",
    "        A = A + K @ Dprime\n",
    "\n",
    "    for i in range(N):\n",
    "        fields[i][k_obs:] = A[:, i].reshape(nx, nx)\n",
    "\n",
    "    k_start = k_obs"
   ]
  },
  {
   "cell_type": "markdown",
   "id": "9eb19cd7",
   "metadata": {},
   "source": [
    "## Plot difference between prior and posterior of a single update"
   ]
  },
  {
   "cell_type": "code",
   "execution_count": null,
   "id": "9c460ae3",
   "metadata": {},
   "outputs": [],
   "source": [
    "k_obs = 5\n",
    "prior_mean_field = A_no_update[k_obs].mean(axis=1).reshape(nx, nx)\n",
    "posterior_mean_field = matrix_from_fields(fields, k_obs).mean(axis=1).reshape(nx, nx)\n",
    "\n",
    "fig, axes = plt.subplots(nrows=1, ncols=2, figsize=(12, 6))\n",
    "p1 = axes[0].pcolormesh(posterior_mean_field - prior_mean_field)\n",
    "utils.colorbar(p1)\n",
    "\n",
    "axes[1].plot(posterior_mean_field.ravel() - prior_mean_field.ravel())\n",
    "\n",
    "fig.tight_layout()"
   ]
  },
  {
   "cell_type": "markdown",
   "id": "eac814bc",
   "metadata": {},
   "source": [
    "## Interactive plotting"
   ]
  },
  {
   "cell_type": "code",
   "execution_count": null,
   "id": "748f965e",
   "metadata": {},
   "outputs": [],
   "source": [
    "def updated_vs_truth(k):\n",
    "    vmin = 0\n",
    "    vmax = 100\n",
    "    fig, axes = plt.subplots(nrows=1, ncols=2)\n",
    "    fig.suptitle(f\"k = {k}\")\n",
    "\n",
    "    A_with_update = matrix_from_fields(fields, k)\n",
    "\n",
    "    axes[0].set_title(\"With update\")\n",
    "    p0 = axes[0].pcolormesh(\n",
    "        A_with_update.mean(axis=1).reshape(nx, nx),\n",
    "        cmap=plt.cm.viridis,\n",
    "        vmin=vmin,\n",
    "        vmax=vmax,\n",
    "    )\n",
    "\n",
    "    axes[1].set_title(\"Truth\")\n",
    "    p1 = axes[1].pcolormesh(u[k], cmap=plt.cm.viridis, vmin=vmin, vmax=vmax)\n",
    "\n",
    "    utils.colorbar(p1)\n",
    "\n",
    "    fig.tight_layout()\n",
    "\n",
    "\n",
    "interact(\n",
    "    updated_vs_truth,\n",
    "    k=widgets.IntSlider(\n",
    "        min=0, max=d.index.get_level_values(\"k\").max(), step=1, value=0\n",
    "    ),\n",
    ")"
   ]
  },
  {
   "cell_type": "code",
   "execution_count": null,
   "id": "06af69fb",
   "metadata": {},
   "outputs": [],
   "source": []
  }
 ],
 "metadata": {
  "jupytext": {
   "formats": "ipynb,py:percent"
  },
  "kernelspec": {
   "display_name": "Python 3 (ipykernel)",
   "language": "python",
   "name": "python3"
  },
  "language_info": {
   "codemirror_mode": {
    "name": "ipython",
    "version": 3
   },
   "file_extension": ".py",
   "mimetype": "text/x-python",
   "name": "python",
   "nbconvert_exporter": "python",
   "pygments_lexer": "ipython3",
   "version": "3.9.14"
  }
 },
 "nbformat": 4,
 "nbformat_minor": 5
}
