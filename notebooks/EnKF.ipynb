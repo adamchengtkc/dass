{
 "cells": [
  {
   "cell_type": "markdown",
   "id": "bd543822-7c85-4a35-beba-49fa33a94ff6",
   "metadata": {},
   "source": [
    "# EnKF using 2D heat equation\n",
    "\n",
    "**Note about coordinate system**\n",
    "\n",
    "Matplotlib's `pcolormesh` follows the standard matrix convention: \"An array C with shape (nrows, ncolumns) is plotted with the column number as X and the row number as Y.\"\n",
    "\n",
    "This means that to get values at the point `(k, x, y)` of a field `u`, we must do `u[k, y, x]`."
   ]
  },
  {
   "cell_type": "code",
   "execution_count": 1,
   "id": "38099d82-c622-4bfa-9660-ca1cc52d8889",
   "metadata": {},
   "outputs": [],
   "source": [
    "%load_ext autoreload"
   ]
  },
  {
   "cell_type": "code",
   "execution_count": 2,
   "id": "d7f85a55-ac09-4326-be37-606a0f658137",
   "metadata": {},
   "outputs": [],
   "source": [
    "import numpy as np\n",
    "\n",
    "np.set_printoptions(suppress=True)\n",
    "rng = np.random.default_rng()\n",
    "\n",
    "import matplotlib.pyplot as plt\n",
    "\n",
    "plt.rcParams[\"figure.figsize\"] = (8, 8)\n",
    "plt.rcParams.update({\"font.size\": 12})\n",
    "from ipywidgets import interact\n",
    "import ipywidgets as widgets\n",
    "\n",
    "from p_tqdm import p_map"
   ]
  },
  {
   "cell_type": "code",
   "execution_count": 3,
   "id": "70cda3a2",
   "metadata": {},
   "outputs": [],
   "source": [
    "%autoreload 2\n",
    "from dass import pde, utils, analysis, taper"
   ]
  },
  {
   "cell_type": "markdown",
   "id": "fc39a68c",
   "metadata": {},
   "source": [
    "# EnKF\n",
    "\n",
    "Constant parameter, unknown field.\n",
    "Stop forward model at every point in time where we have observations."
   ]
  },
  {
   "cell_type": "markdown",
   "id": "d1907401",
   "metadata": {},
   "source": [
    "## Define parameters, set true initial conditions and calculate the true temperature field"
   ]
  },
  {
   "cell_type": "code",
   "execution_count": 4,
   "id": "6a262c96",
   "metadata": {},
   "outputs": [],
   "source": [
    "N = 100\n",
    "\n",
    "k_start = 0\n",
    "k_end = 300\n",
    "\n",
    "# Number of grid-cells in x and y direction\n",
    "nx = 20\n",
    "\n",
    "alpha = np.ones((nx, nx)) * 5.0\n",
    "# alpha[:, nx // 2 :] = 100.0\n",
    "\n",
    "dx = 1\n",
    "dt = dx**2 / (4 * np.max(alpha))  # Max dt\n",
    "# Amount of noise in the heat equation is dependent on the value of `dt`.\n",
    "# Making this smaller adds less noise which yields less change from one step to the other.\n",
    "# dt = dt / 10.0\n",
    "\n",
    "# True initial temperature field.\n",
    "u_top = 100.0\n",
    "u_left = 0.0\n",
    "u_bottom = 0.0\n",
    "u_right = 0.0\n",
    "u = np.empty((k_end, nx, nx))\n",
    "u.fill(0.0)\n",
    "# Set the boundary conditions\n",
    "u[:, (nx - 1) :, :] = u_top\n",
    "u[:, :, :1] = u_left\n",
    "u[:, :1, 1:] = u_bottom\n",
    "u[:, :, (nx - 1) :] = u_right\n",
    "\n",
    "u = pde.heat_equation(u, alpha, dx, dt, k_start, k_end, rng=rng, scale=None)"
   ]
  },
  {
   "cell_type": "markdown",
   "id": "be1a7df7",
   "metadata": {},
   "source": [
    "## Interactive plot of true temperature field"
   ]
  },
  {
   "cell_type": "code",
   "execution_count": 5,
   "id": "82a85378",
   "metadata": {},
   "outputs": [
    {
     "data": {
      "application/vnd.jupyter.widget-view+json": {
       "model_id": "7ad84efbb0864f53b6d0f0253e154e4b",
       "version_major": 2,
       "version_minor": 0
      },
      "text/plain": [
       "interactive(children=(IntSlider(value=0, description='k', max=299), Output()), _dom_classes=('widget-interact'…"
      ]
     },
     "metadata": {},
     "output_type": "display_data"
    },
    {
     "data": {
      "text/plain": [
       "<function __main__.interactive_truth(k)>"
      ]
     },
     "execution_count": 5,
     "metadata": {},
     "output_type": "execute_result"
    }
   ],
   "source": [
    "def interactive_truth(k):\n",
    "    fig, ax = plt.subplots()\n",
    "    fig.suptitle(\"True temperature field\")\n",
    "    p = ax.pcolormesh(u[k], vmin=0, vmax=100)\n",
    "    ax.set_title(f\"k = {k}\")\n",
    "    utils.colorbar(p)\n",
    "    fig.tight_layout()\n",
    "    \n",
    "interact(\n",
    "    interactive_truth,\n",
    "    k=widgets.IntSlider(min=k_start, max=k_end - 1, step=1, value=0),\n",
    ")"
   ]
  },
  {
   "cell_type": "markdown",
   "id": "0acbd36e",
   "metadata": {},
   "source": [
    "## Define random seeds because multiprocessing\n",
    "\n",
    "https://numpy.org/doc/stable/reference/random/parallel.html#seedsequence-spawning"
   ]
  },
  {
   "cell_type": "code",
   "execution_count": 6,
   "id": "26e91a00",
   "metadata": {},
   "outputs": [],
   "source": [
    "ss = np.random.SeedSequence(12345)\n",
    "child_seeds = ss.spawn(N)\n",
    "streams = [np.random.default_rng(s) for s in child_seeds]"
   ]
  },
  {
   "cell_type": "markdown",
   "id": "4a6f06a3",
   "metadata": {},
   "source": [
    "## Generate truth and observations based on truth"
   ]
  },
  {
   "cell_type": "code",
   "execution_count": 7,
   "id": "3770111b",
   "metadata": {},
   "outputs": [
    {
     "name": "stdout",
     "output_type": "stream",
     "text": [
      "Number of observations:  50\n"
     ]
    }
   ],
   "source": [
    "u = pde.heat_equation(\n",
    "    u, alpha, dx, dt, k_start, k_end, np.random.default_rng(12345), np.sqrt(dt)\n",
    ")\n",
    "\n",
    "# placement of sensors, i.e, where the observations are done\n",
    "#padding = int(0.15 * nx)\n",
    "#x = np.linspace(padding, nx - padding, 3, dtype=int)\n",
    "#y = np.linspace(padding, nx - padding, 3, dtype=int)\n",
    "#obs_coordinates = [utils.Coordinate(xc, yc) for xc in x for yc in y]\n",
    "\n",
    "obs_coordinates = [utils.Coordinate(nx // 2, nx - 2)]\n",
    "\n",
    "# At which times observations are taken\n",
    "obs_times = np.linspace(5, k_end, 50, endpoint=False, dtype=int)\n",
    "\n",
    "d = utils.observations(obs_coordinates, obs_times, u)\n",
    "# number of measurements\n",
    "m = d.shape[0]\n",
    "print(\"Number of observations: \", m)"
   ]
  },
  {
   "cell_type": "code",
   "execution_count": 120,
   "id": "df9c9392",
   "metadata": {},
   "outputs": [
    {
     "data": {
      "text/plain": [
       "[<matplotlib.lines.Line2D at 0x131b505e0>]"
      ]
     },
     "execution_count": 120,
     "metadata": {},
     "output_type": "execute_result"
    },
    {
     "data": {
      "image/png": "[encoded data removed]",
      "text/plain": [
       "<Figure size 576x576 with 2 Axes>"
      ]
     },
     "metadata": {
      "needs_background": "light"
     },
     "output_type": "display_data"
    }
   ],
   "source": [
    "# Plot temperature field and show placement of sensors.\n",
    "obs_xy = set(zip(d.index.get_level_values(\"x\"), d.index.get_level_values(\"y\")))\n",
    "x, y = zip(*obs_xy)\n",
    "\n",
    "fig, ax = plt.subplots()\n",
    "p = ax.pcolormesh(u[100], cmap=plt.cm.viridis)\n",
    "fig.colorbar(p)\n",
    "ax.plot(x, y, \"s\", color=\"white\", markersize=15)"
   ]
  },
  {
   "cell_type": "code",
   "execution_count": 65,
   "id": "95bfa1bc",
   "metadata": {},
   "outputs": [],
   "source": [
    "def gen_field():\n",
    "    u = np.empty((k_end, nx, nx))\n",
    "    u.fill(0.0)\n",
    "\n",
    "    # Set the boundary conditions\n",
    "    #u[:, (nx - 1) :, :] = (u_top / 2) + rng.normal(0, 20, nx)\n",
    "    u[:, (nx - 1) :, :] = (u_top / 2) + rng.normal(0, 20)\n",
    "    u[:, :, :1] = u_left\n",
    "    u[:, :1, 1:] = u_bottom\n",
    "    u[:, :, (nx - 1) :] = u_right\n",
    "\n",
    "    return u\n",
    "\n",
    "\n",
    "fields = [gen_field() for _ in range(N)]"
   ]
  },
  {
   "cell_type": "code",
   "execution_count": 66,
   "id": "e24740ee",
   "metadata": {},
   "outputs": [],
   "source": [
    "def matrix_from_fields(fields, k):\n",
    "    nx = fields[0][0].shape[0]\n",
    "    A = np.zeros(shape=(nx * nx, N))\n",
    "    for f in range(len(fields)):\n",
    "        A[:, f] = fields[f][k].ravel()\n",
    "    return A"
   ]
  },
  {
   "cell_type": "code",
   "execution_count": 67,
   "id": "bd21ef2f",
   "metadata": {},
   "outputs": [
    {
     "data": {
      "text/plain": [
       "Int64Index([  5,  10,  16,  22,  28,  34,  40,  46,  52,  58,  64,  69,  75,\n",
       "             81,  87,  93,  99, 105, 111, 117, 123, 128, 134, 140, 146, 152,\n",
       "            158, 164, 170, 176, 182, 187, 193, 199, 205, 211, 217, 223, 229,\n",
       "            235, 241, 246, 252, 258, 264, 270, 276, 282, 288, 294],\n",
       "           dtype='int64', name='k')"
      ]
     },
     "execution_count": 67,
     "metadata": {},
     "output_type": "execute_result"
    }
   ],
   "source": [
    "d.index.get_level_values(\"k\").unique()"
   ]
  },
  {
   "cell_type": "markdown",
   "id": "7786d444",
   "metadata": {},
   "source": [
    "## Plot tapering function used for localisation"
   ]
  },
  {
   "cell_type": "code",
   "execution_count": 103,
   "id": "625c61e0",
   "metadata": {},
   "outputs": [
    {
     "data": {
      "text/plain": [
       "[<matplotlib.lines.Line2D at 0x13052eb80>]"
      ]
     },
     "execution_count": 103,
     "metadata": {},
     "output_type": "execute_result"
    },
    {
     "data": {
      "image/png": "[encoded data removed]",
      "text/plain": [
       "<Figure size 576x576 with 1 Axes>"
      ]
     },
     "metadata": {
      "needs_background": "light"
     },
     "output_type": "display_data"
    }
   ],
   "source": [
    "fig, ax = plt.subplots()\n",
    "ax.plot(taper.gauss(np.linspace(-nx, nx), 3.0))"
   ]
  },
  {
   "cell_type": "code",
   "execution_count": 79,
   "id": "dfae7f13",
   "metadata": {},
   "outputs": [
    {
     "data": {
      "application/vnd.jupyter.widget-view+json": {
       "model_id": "ff084cf6fcb6403c8d1b97c6dcc5d5fc",
       "version_major": 2,
       "version_minor": 0
      },
      "text/plain": [
       "Running forward model from 0 to 5:   0%|          | 0/100 [00:00<?, ?it/s]"
      ]
     },
     "metadata": {},
     "output_type": "display_data"
    },
    {
     "data": {
      "application/vnd.jupyter.widget-view+json": {
       "model_id": "85f0bc9f6ad94e35a2c62fe58bfa8cfa",
       "version_major": 2,
       "version_minor": 0
      },
      "text/plain": [
       "Running forward model from 5 to 10:   0%|          | 0/100 [00:00<?, ?it/s]"
      ]
     },
     "metadata": {},
     "output_type": "display_data"
    },
    {
     "data": {
      "application/vnd.jupyter.widget-view+json": {
       "model_id": "1386ca09eda1447ab3a1c290e35318fb",
       "version_major": 2,
       "version_minor": 0
      },
      "text/plain": [
       "Running forward model from 10 to 16:   0%|          | 0/100 [00:00<?, ?it/s]"
      ]
     },
     "metadata": {},
     "output_type": "display_data"
    },
    {
     "data": {
      "application/vnd.jupyter.widget-view+json": {
       "model_id": "b85ef4dd595c4f6699b88111d00a1476",
       "version_major": 2,
       "version_minor": 0
      },
      "text/plain": [
       "Running forward model from 16 to 22:   0%|          | 0/100 [00:00<?, ?it/s]"
      ]
     },
     "metadata": {},
     "output_type": "display_data"
    },
    {
     "data": {
      "application/vnd.jupyter.widget-view+json": {
       "model_id": "3264d7a134cf4500be52832198fdad2c",
       "version_major": 2,
       "version_minor": 0
      },
      "text/plain": [
       "Running forward model from 22 to 28:   0%|          | 0/100 [00:00<?, ?it/s]"
      ]
     },
     "metadata": {},
     "output_type": "display_data"
    },
    {
     "data": {
      "application/vnd.jupyter.widget-view+json": {
       "model_id": "c53d86030b764bd2abe5c6d19ce7166e",
       "version_major": 2,
       "version_minor": 0
      },
      "text/plain": [
       "Running forward model from 28 to 34:   0%|          | 0/100 [00:00<?, ?it/s]"
      ]
     },
     "metadata": {},
     "output_type": "display_data"
    },
    {
     "data": {
      "application/vnd.jupyter.widget-view+json": {
       "model_id": "399a1a5f56b24936b8f10582c930a973",
       "version_major": 2,
       "version_minor": 0
      },
      "text/plain": [
       "Running forward model from 34 to 40:   0%|          | 0/100 [00:00<?, ?it/s]"
      ]
     },
     "metadata": {},
     "output_type": "display_data"
    },
    {
     "data": {
      "application/vnd.jupyter.widget-view+json": {
       "model_id": "72c3cba24f344d7b9471cc6510ca0f9a",
       "version_major": 2,
       "version_minor": 0
      },
      "text/plain": [
       "Running forward model from 40 to 46:   0%|          | 0/100 [00:00<?, ?it/s]"
      ]
     },
     "metadata": {},
     "output_type": "display_data"
    },
    {
     "data": {
      "application/vnd.jupyter.widget-view+json": {
       "model_id": "135829c16d9c4f2b8f34e8482f922d30",
       "version_major": 2,
       "version_minor": 0
      },
      "text/plain": [
       "Running forward model from 46 to 52:   0%|          | 0/100 [00:00<?, ?it/s]"
      ]
     },
     "metadata": {},
     "output_type": "display_data"
    },
    {
     "data": {
      "application/vnd.jupyter.widget-view+json": {
       "model_id": "b3151820cd0e47bb8d193f320c9eec85",
       "version_major": 2,
       "version_minor": 0
      },
      "text/plain": [
       "Running forward model from 52 to 58:   0%|          | 0/100 [00:00<?, ?it/s]"
      ]
     },
     "metadata": {},
     "output_type": "display_data"
    },
    {
     "data": {
      "application/vnd.jupyter.widget-view+json": {
       "model_id": "6ff45469fcb140fbb3d7693f50391510",
       "version_major": 2,
       "version_minor": 0
      },
      "text/plain": [
       "Running forward model from 58 to 64:   0%|          | 0/100 [00:00<?, ?it/s]"
      ]
     },
     "metadata": {},
     "output_type": "display_data"
    },
    {
     "data": {
      "application/vnd.jupyter.widget-view+json": {
       "model_id": "0b6a8b7fa21c4c788339150fcc2b53aa",
       "version_major": 2,
       "version_minor": 0
      },
      "text/plain": [
       "Running forward model from 64 to 69:   0%|          | 0/100 [00:00<?, ?it/s]"
      ]
     },
     "metadata": {},
     "output_type": "display_data"
    },
    {
     "data": {
      "application/vnd.jupyter.widget-view+json": {
       "model_id": "49de8fe421f1480b810b0e8c2a51199b",
       "version_major": 2,
       "version_minor": 0
      },
      "text/plain": [
       "Running forward model from 69 to 75:   0%|          | 0/100 [00:00<?, ?it/s]"
      ]
     },
     "metadata": {},
     "output_type": "display_data"
    },
    {
     "data": {
      "application/vnd.jupyter.widget-view+json": {
       "model_id": "ef7ca6f5fd574c978ab63d3778561bdc",
       "version_major": 2,
       "version_minor": 0
      },
      "text/plain": [
       "Running forward model from 75 to 81:   0%|          | 0/100 [00:00<?, ?it/s]"
      ]
     },
     "metadata": {},
     "output_type": "display_data"
    },
    {
     "data": {
      "application/vnd.jupyter.widget-view+json": {
       "model_id": "0cca72f10b0a454c8e78d3498a23acc3",
       "version_major": 2,
       "version_minor": 0
      },
      "text/plain": [
       "Running forward model from 81 to 87:   0%|          | 0/100 [00:00<?, ?it/s]"
      ]
     },
     "metadata": {},
     "output_type": "display_data"
    },
    {
     "data": {
      "application/vnd.jupyter.widget-view+json": {
       "model_id": "b15abefd60e442ddb5fd3ce0ae6be397",
       "version_major": 2,
       "version_minor": 0
      },
      "text/plain": [
       "Running forward model from 87 to 93:   0%|          | 0/100 [00:00<?, ?it/s]"
      ]
     },
     "metadata": {},
     "output_type": "display_data"
    },
    {
     "data": {
      "application/vnd.jupyter.widget-view+json": {
       "model_id": "46b2e4007fb34186821759f7bb139dff",
       "version_major": 2,
       "version_minor": 0
      },
      "text/plain": [
       "Running forward model from 93 to 99:   0%|          | 0/100 [00:00<?, ?it/s]"
      ]
     },
     "metadata": {},
     "output_type": "display_data"
    },
    {
     "data": {
      "application/vnd.jupyter.widget-view+json": {
       "model_id": "b3eb9193333347de92fb51f60d443492",
       "version_major": 2,
       "version_minor": 0
      },
      "text/plain": [
       "Running forward model from 99 to 105:   0%|          | 0/100 [00:00<?, ?it/s]"
      ]
     },
     "metadata": {},
     "output_type": "display_data"
    },
    {
     "data": {
      "application/vnd.jupyter.widget-view+json": {
       "model_id": "31e71e388c1942348f52c351dacc5d0c",
       "version_major": 2,
       "version_minor": 0
      },
      "text/plain": [
       "Running forward model from 105 to 111:   0%|          | 0/100 [00:00<?, ?it/s]"
      ]
     },
     "metadata": {},
     "output_type": "display_data"
    },
    {
     "data": {
      "application/vnd.jupyter.widget-view+json": {
       "model_id": "7b14808dff59459da3fa466ca5812ee2",
       "version_major": 2,
       "version_minor": 0
      },
      "text/plain": [
       "Running forward model from 111 to 117:   0%|          | 0/100 [00:00<?, ?it/s]"
      ]
     },
     "metadata": {},
     "output_type": "display_data"
    },
    {
     "data": {
      "application/vnd.jupyter.widget-view+json": {
       "model_id": "189aa78961bc4a11970aad89a02801a1",
       "version_major": 2,
       "version_minor": 0
      },
      "text/plain": [
       "Running forward model from 117 to 123:   0%|          | 0/100 [00:00<?, ?it/s]"
      ]
     },
     "metadata": {},
     "output_type": "display_data"
    },
    {
     "data": {
      "application/vnd.jupyter.widget-view+json": {
       "model_id": "3ad94cac576f49018d8162d5c557a0a9",
       "version_major": 2,
       "version_minor": 0
      },
      "text/plain": [
       "Running forward model from 123 to 128:   0%|          | 0/100 [00:00<?, ?it/s]"
      ]
     },
     "metadata": {},
     "output_type": "display_data"
    },
    {
     "data": {
      "application/vnd.jupyter.widget-view+json": {
       "model_id": "d6dd3de40a1c42cfbeeaf3ab6952d1d0",
       "version_major": 2,
       "version_minor": 0
      },
      "text/plain": [
       "Running forward model from 128 to 134:   0%|          | 0/100 [00:00<?, ?it/s]"
      ]
     },
     "metadata": {},
     "output_type": "display_data"
    },
    {
     "data": {
      "application/vnd.jupyter.widget-view+json": {
       "model_id": "cf5fa2b5690e407f997cb6bf01f9e995",
       "version_major": 2,
       "version_minor": 0
      },
      "text/plain": [
       "Running forward model from 134 to 140:   0%|          | 0/100 [00:00<?, ?it/s]"
      ]
     },
     "metadata": {},
     "output_type": "display_data"
    },
    {
     "data": {
      "application/vnd.jupyter.widget-view+json": {
       "model_id": "af1ed203e4d04e9e868eef24872aecfd",
       "version_major": 2,
       "version_minor": 0
      },
      "text/plain": [
       "Running forward model from 140 to 146:   0%|          | 0/100 [00:00<?, ?it/s]"
      ]
     },
     "metadata": {},
     "output_type": "display_data"
    },
    {
     "data": {
      "application/vnd.jupyter.widget-view+json": {
       "model_id": "260a955188f84281b67a2cda014d3392",
       "version_major": 2,
       "version_minor": 0
      },
      "text/plain": [
       "Running forward model from 146 to 152:   0%|          | 0/100 [00:00<?, ?it/s]"
      ]
     },
     "metadata": {},
     "output_type": "display_data"
    },
    {
     "data": {
      "application/vnd.jupyter.widget-view+json": {
       "model_id": "15c291bdba254d7592129a97b0fada7e",
       "version_major": 2,
       "version_minor": 0
      },
      "text/plain": [
       "Running forward model from 152 to 158:   0%|          | 0/100 [00:00<?, ?it/s]"
      ]
     },
     "metadata": {},
     "output_type": "display_data"
    },
    {
     "data": {
      "application/vnd.jupyter.widget-view+json": {
       "model_id": "965fa479f60b45ba928acfb0922b60c5",
       "version_major": 2,
       "version_minor": 0
      },
      "text/plain": [
       "Running forward model from 158 to 164:   0%|          | 0/100 [00:00<?, ?it/s]"
      ]
     },
     "metadata": {},
     "output_type": "display_data"
    },
    {
     "data": {
      "application/vnd.jupyter.widget-view+json": {
       "model_id": "c8ca7e872f36401b8a95bb20e477e9b0",
       "version_major": 2,
       "version_minor": 0
      },
      "text/plain": [
       "Running forward model from 164 to 170:   0%|          | 0/100 [00:00<?, ?it/s]"
      ]
     },
     "metadata": {},
     "output_type": "display_data"
    },
    {
     "data": {
      "application/vnd.jupyter.widget-view+json": {
       "model_id": "ce3ffa82ea4442bbb761c88b3347faff",
       "version_major": 2,
       "version_minor": 0
      },
      "text/plain": [
       "Running forward model from 170 to 176:   0%|          | 0/100 [00:00<?, ?it/s]"
      ]
     },
     "metadata": {},
     "output_type": "display_data"
    },
    {
     "data": {
      "application/vnd.jupyter.widget-view+json": {
       "model_id": "6a0e6b56937d4bcfb560a0a43801425e",
       "version_major": 2,
       "version_minor": 0
      },
      "text/plain": [
       "Running forward model from 176 to 182:   0%|          | 0/100 [00:00<?, ?it/s]"
      ]
     },
     "metadata": {},
     "output_type": "display_data"
    },
    {
     "data": {
      "application/vnd.jupyter.widget-view+json": {
       "model_id": "870c24633f324e0fbf7cbcf78832b0f7",
       "version_major": 2,
       "version_minor": 0
      },
      "text/plain": [
       "Running forward model from 182 to 187:   0%|          | 0/100 [00:00<?, ?it/s]"
      ]
     },
     "metadata": {},
     "output_type": "display_data"
    },
    {
     "data": {
      "application/vnd.jupyter.widget-view+json": {
       "model_id": "de023d4d58664dc5be1d76cb9656da1f",
       "version_major": 2,
       "version_minor": 0
      },
      "text/plain": [
       "Running forward model from 187 to 193:   0%|          | 0/100 [00:00<?, ?it/s]"
      ]
     },
     "metadata": {},
     "output_type": "display_data"
    },
    {
     "data": {
      "application/vnd.jupyter.widget-view+json": {
       "model_id": "863d67cc8492416baa096a82c3e68830",
       "version_major": 2,
       "version_minor": 0
      },
      "text/plain": [
       "Running forward model from 193 to 199:   0%|          | 0/100 [00:00<?, ?it/s]"
      ]
     },
     "metadata": {},
     "output_type": "display_data"
    },
    {
     "data": {
      "application/vnd.jupyter.widget-view+json": {
       "model_id": "37d1043b1d144399bee694cb648516ec",
       "version_major": 2,
       "version_minor": 0
      },
      "text/plain": [
       "Running forward model from 199 to 205:   0%|          | 0/100 [00:00<?, ?it/s]"
      ]
     },
     "metadata": {},
     "output_type": "display_data"
    },
    {
     "data": {
      "application/vnd.jupyter.widget-view+json": {
       "model_id": "c24791223097446bbbc801765fd940e6",
       "version_major": 2,
       "version_minor": 0
      },
      "text/plain": [
       "Running forward model from 205 to 211:   0%|          | 0/100 [00:00<?, ?it/s]"
      ]
     },
     "metadata": {},
     "output_type": "display_data"
    },
    {
     "data": {
      "application/vnd.jupyter.widget-view+json": {
       "model_id": "a9dbea584e204ca3b7f8f3ba4b8de723",
       "version_major": 2,
       "version_minor": 0
      },
      "text/plain": [
       "Running forward model from 211 to 217:   0%|          | 0/100 [00:00<?, ?it/s]"
      ]
     },
     "metadata": {},
     "output_type": "display_data"
    },
    {
     "data": {
      "application/vnd.jupyter.widget-view+json": {
       "model_id": "c197ebee4fea4ca28cd9a89dde808241",
       "version_major": 2,
       "version_minor": 0
      },
      "text/plain": [
       "Running forward model from 217 to 223:   0%|          | 0/100 [00:00<?, ?it/s]"
      ]
     },
     "metadata": {},
     "output_type": "display_data"
    },
    {
     "data": {
      "application/vnd.jupyter.widget-view+json": {
       "model_id": "00b4782079b945789d5b3d5fcf868f5b",
       "version_major": 2,
       "version_minor": 0
      },
      "text/plain": [
       "Running forward model from 223 to 229:   0%|          | 0/100 [00:00<?, ?it/s]"
      ]
     },
     "metadata": {},
     "output_type": "display_data"
    },
    {
     "data": {
      "application/vnd.jupyter.widget-view+json": {
       "model_id": "149930f686bd47bba6ebf8cb1eb4f509",
       "version_major": 2,
       "version_minor": 0
      },
      "text/plain": [
       "Running forward model from 229 to 235:   0%|          | 0/100 [00:00<?, ?it/s]"
      ]
     },
     "metadata": {},
     "output_type": "display_data"
    },
    {
     "data": {
      "application/vnd.jupyter.widget-view+json": {
       "model_id": "6aa395a0d44e4de2a1677ddff18e50b8",
       "version_major": 2,
       "version_minor": 0
      },
      "text/plain": [
       "Running forward model from 235 to 241:   0%|          | 0/100 [00:00<?, ?it/s]"
      ]
     },
     "metadata": {},
     "output_type": "display_data"
    },
    {
     "data": {
      "application/vnd.jupyter.widget-view+json": {
       "model_id": "d29099107b724b96b5e0f042f3979747",
       "version_major": 2,
       "version_minor": 0
      },
      "text/plain": [
       "Running forward model from 241 to 246:   0%|          | 0/100 [00:00<?, ?it/s]"
      ]
     },
     "metadata": {},
     "output_type": "display_data"
    },
    {
     "data": {
      "application/vnd.jupyter.widget-view+json": {
       "model_id": "6e3c5f3775f24081abc60e4bc9d74a22",
       "version_major": 2,
       "version_minor": 0
      },
      "text/plain": [
       "Running forward model from 246 to 252:   0%|          | 0/100 [00:00<?, ?it/s]"
      ]
     },
     "metadata": {},
     "output_type": "display_data"
    },
    {
     "data": {
      "application/vnd.jupyter.widget-view+json": {
       "model_id": "70174eccd304466190ca4d80395accf7",
       "version_major": 2,
       "version_minor": 0
      },
      "text/plain": [
       "Running forward model from 252 to 258:   0%|          | 0/100 [00:00<?, ?it/s]"
      ]
     },
     "metadata": {},
     "output_type": "display_data"
    },
    {
     "data": {
      "application/vnd.jupyter.widget-view+json": {
       "model_id": "dc4e649a62cf40998d4a29406dcb4597",
       "version_major": 2,
       "version_minor": 0
      },
      "text/plain": [
       "Running forward model from 258 to 264:   0%|          | 0/100 [00:00<?, ?it/s]"
      ]
     },
     "metadata": {},
     "output_type": "display_data"
    },
    {
     "data": {
      "application/vnd.jupyter.widget-view+json": {
       "model_id": "46330f64da0546bb8d6a765db0d0ebc2",
       "version_major": 2,
       "version_minor": 0
      },
      "text/plain": [
       "Running forward model from 264 to 270:   0%|          | 0/100 [00:00<?, ?it/s]"
      ]
     },
     "metadata": {},
     "output_type": "display_data"
    },
    {
     "data": {
      "application/vnd.jupyter.widget-view+json": {
       "model_id": "f89d9920c4584a0e8d75ca60c3b1c439",
       "version_major": 2,
       "version_minor": 0
      },
      "text/plain": [
       "Running forward model from 270 to 276:   0%|          | 0/100 [00:00<?, ?it/s]"
      ]
     },
     "metadata": {},
     "output_type": "display_data"
    },
    {
     "data": {
      "application/vnd.jupyter.widget-view+json": {
       "model_id": "24744107e68c42098bbfe35ffb88079c",
       "version_major": 2,
       "version_minor": 0
      },
      "text/plain": [
       "Running forward model from 276 to 282:   0%|          | 0/100 [00:00<?, ?it/s]"
      ]
     },
     "metadata": {},
     "output_type": "display_data"
    },
    {
     "data": {
      "application/vnd.jupyter.widget-view+json": {
       "model_id": "f2fe380d9aed4ba6829dbfc385ceebbd",
       "version_major": 2,
       "version_minor": 0
      },
      "text/plain": [
       "Running forward model from 282 to 288:   0%|          | 0/100 [00:00<?, ?it/s]"
      ]
     },
     "metadata": {},
     "output_type": "display_data"
    },
    {
     "data": {
      "application/vnd.jupyter.widget-view+json": {
       "model_id": "fd5a3c5ab1974e96a251052567ff8d89",
       "version_major": 2,
       "version_minor": 0
      },
      "text/plain": [
       "Running forward model from 288 to 294:   0%|          | 0/100 [00:00<?, ?it/s]"
      ]
     },
     "metadata": {},
     "output_type": "display_data"
    }
   ],
   "source": [
    "A_no_update = {}\n",
    "localize = True\n",
    "k_start = 0\n",
    "for k_obs in d.index.get_level_values(\"k\").unique().to_list():\n",
    "    fields = p_map(\n",
    "        pde.heat_equation,\n",
    "        fields,\n",
    "        [alpha] * N,\n",
    "        [dx] * N,\n",
    "        [dt] * N,\n",
    "        [k_start] * N,\n",
    "        [k_obs + 1] * N,\n",
    "        streams,\n",
    "        [np.sqrt(dt)] * N,\n",
    "        desc=f\"Running forward model from {k_start} to {k_obs}\",\n",
    "    )\n",
    "\n",
    "    d_k = d.query(f\"k == {k_obs}\")\n",
    "    m = d_k.shape[0]\n",
    "\n",
    "    A = matrix_from_fields(fields, k_obs)\n",
    "    A_no_update[k_obs] = A.copy()\n",
    "    \n",
    "    # measure response\n",
    "    Y = np.zeros(shape=(m, N))\n",
    "    for i in range(N):\n",
    "        # It's A[y, x] and not A[x, y] due to convention followed by matplotlib's pcolormesh.\n",
    "        Y[:, i] = A[:, i].reshape(nx, nx)[\n",
    "            d_k.index.get_level_values(\"y\").to_list(),\n",
    "            d_k.index.get_level_values(\"x\").to_list(),\n",
    "        ]\n",
    "\n",
    "    Cdd = np.diag(d_k.sd.values**2)\n",
    "\n",
    "    E = rng.multivariate_normal(mean=np.zeros(len(Cdd)), cov=Cdd, size=N).T\n",
    "    E = E - E.mean(axis=1, keepdims=True)\n",
    "    assert E.shape == (m, N)\n",
    "\n",
    "    D = np.ones((m, N)) * d_k.value.values.reshape(-1, 1) + E\n",
    "\n",
    "    S = Y - Y.mean(axis=1, keepdims=True)\n",
    "\n",
    "    A_centered = A - A.mean(axis=0, keepdims=True)\n",
    "    Dprime = D - Y\n",
    "\n",
    "    if localize:\n",
    "        for i in range(nx**2):\n",
    "            state_idx = np.unravel_index(i, shape=(nx, nx))\n",
    "            dist = np.sqrt((state_idx[0] - obs_coordinates[0].y)**2 + (state_idx[1] - obs_coordinates[0].x)**2)\n",
    "            taper_coeff = taper.gauss(dist, 2.0)\n",
    "            \n",
    "            K = (\n",
    "                A_centered[i, :]\n",
    "                @ S.T\n",
    "                @ np.linalg.pinv(S @ S.T + (N - 1) * Cdd)\n",
    "            )\n",
    "        \n",
    "            #K = (\n",
    "            #    A_centered[i, :]\n",
    "            #    @ S.T\n",
    "            #    @ np.linalg.pinv(S @ S.T + (N - 1) * (1 / taper_coeff**2) * Cdd)\n",
    "            #)\n",
    "            \n",
    "            A[i, :] = A[i, :] + np.sqrt(taper_coeff) * K @ (Dprime)\n",
    "    else:\n",
    "        K = A_centered @ S.T @ np.linalg.pinv(S @ S.T + (N - 1) * Cdd)\n",
    "        A = A + K @ Dprime\n",
    "\n",
    "    for i in range(N):\n",
    "        fields[i][k_obs:] = A[:, i].reshape(nx, nx)\n",
    "\n",
    "    k_start = k_obs"
   ]
  },
  {
   "cell_type": "markdown",
   "id": "9eb19cd7",
   "metadata": {},
   "source": [
    "## Plot difference between prior and posterior of a single update"
   ]
  },
  {
   "cell_type": "code",
   "execution_count": 118,
   "id": "9c460ae3",
   "metadata": {},
   "outputs": [
    {
     "data": {
      "image/png": "[encoded data removed]",
      "text/plain": [
       "<Figure size 864x432 with 3 Axes>"
      ]
     },
     "metadata": {
      "needs_background": "light"
     },
     "output_type": "display_data"
    }
   ],
   "source": [
    "k_obs = 5\n",
    "prior_mean_field = A_no_update[k_obs].mean(axis=1).reshape(nx, nx)\n",
    "posterior_mean_field = matrix_from_fields(fields, k_obs).mean(axis=1).reshape(nx, nx)\n",
    "\n",
    "fig, axes = plt.subplots(nrows=1, ncols=2, figsize=(12, 6))\n",
    "p1 = axes[0].pcolormesh(posterior_mean_field - prior_mean_field)\n",
    "utils.colorbar(p1)\n",
    "\n",
    "axes[1].plot(posterior_mean_field.ravel() - prior_mean_field.ravel())\n",
    "\n",
    "fig.tight_layout()"
   ]
  },
  {
   "cell_type": "markdown",
   "id": "eac814bc",
   "metadata": {},
   "source": [
    "## Interactive plotting"
   ]
  },
  {
   "cell_type": "code",
   "execution_count": 100,
   "id": "748f965e",
   "metadata": {},
   "outputs": [
    {
     "data": {
      "application/vnd.jupyter.widget-view+json": {
       "model_id": "a29674bd8458472ab1dfd55f5c4e2122",
       "version_major": 2,
       "version_minor": 0
      },
      "text/plain": [
       "interactive(children=(IntSlider(value=0, description='k', max=294), Output()), _dom_classes=('widget-interact'…"
      ]
     },
     "metadata": {},
     "output_type": "display_data"
    },
    {
     "data": {
      "text/plain": [
       "<function __main__.updated_vs_truth(k)>"
      ]
     },
     "execution_count": 100,
     "metadata": {},
     "output_type": "execute_result"
    }
   ],
   "source": [
    "def updated_vs_truth(k):\n",
    "    vmin = 0\n",
    "    vmax = 100\n",
    "    fig, axes = plt.subplots(nrows=1, ncols=2)\n",
    "    fig.suptitle(f\"k = {k}\")\n",
    "\n",
    "    A_with_update = matrix_from_fields(fields, k)\n",
    "\n",
    "    axes[0].set_title(\"With update\")\n",
    "    p0 = axes[0].pcolormesh(\n",
    "        A_with_update.mean(axis=1).reshape(nx, nx),\n",
    "        cmap=plt.cm.viridis,\n",
    "        vmin=vmin,\n",
    "        vmax=vmax,\n",
    "    )\n",
    "\n",
    "    axes[1].set_title(\"Truth\")\n",
    "    p1 = axes[1].pcolormesh(u[k], cmap=plt.cm.viridis, vmin=vmin, vmax=vmax)\n",
    "\n",
    "    \n",
    "    utils.colorbar(p1)\n",
    "    \n",
    "    fig.tight_layout()\n",
    "    \n",
    "interact(\n",
    "    updated_vs_truth,\n",
    "    k=widgets.IntSlider(min=0, max=d.index.get_level_values(\"k\").max(), step=1, value=0),\n",
    ")"
   ]
  },
  {
   "cell_type": "code",
   "execution_count": null,
   "id": "06af69fb",
   "metadata": {},
   "outputs": [],
   "source": []
  }
 ],
 "metadata": {
  "jupytext": {
   "formats": "ipynb,py:percent"
  },
  "kernelspec": {
   "display_name": "Python 3 (ipykernel)",
   "language": "python",
   "name": "python3"
  },
  "language_info": {
   "codemirror_mode": {
    "name": "ipython",
    "version": 3
   },
   "file_extension": ".py",
   "mimetype": "text/x-python",
   "name": "python",
   "nbconvert_exporter": "python",
   "pygments_lexer": "ipython3",
   "version": "3.8.13"
  }
 },
 "nbformat": 4,
 "nbformat_minor": 5
}
