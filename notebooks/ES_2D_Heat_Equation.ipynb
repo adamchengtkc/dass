{
 "cells": [
  {
   "cell_type": "markdown",
   "id": "f9a2b8f5",
   "metadata": {},
   "source": [
    "# Parameter estimation using ES and the 2D Heat Equation"
   ]
  },
  {
   "cell_type": "code",
   "execution_count": null,
   "id": "2f837dbd",
   "metadata": {},
   "outputs": [],
   "source": [
    "import numpy as np\n",
    "\n",
    "np.set_printoptions(suppress=True)\n",
    "rng = np.random.default_rng(12)\n",
    "\n",
    "import matplotlib.pyplot as plt\n",
    "\n",
    "plt.rcParams[\"figure.figsize\"] = (6, 6)\n",
    "plt.rcParams.update({\"font.size\": 10})\n",
    "from ipywidgets import interact\n",
    "import ipywidgets as widgets\n",
    "\n",
    "from p_tqdm import p_map\n",
    "\n",
    "from scipy.ndimage import gaussian_filter\n",
    "\n",
    "import iterative_ensemble_smoother as ies"
   ]
  },
  {
   "cell_type": "code",
   "execution_count": null,
   "id": "56ef214d",
   "metadata": {},
   "outputs": [],
   "source": [
    "%load_ext autoreload\n",
    "%autoreload 2\n",
    "from dass import pde, utils, analysis, taper"
   ]
  },
  {
   "cell_type": "markdown",
   "id": "d93ee69f",
   "metadata": {},
   "source": [
    "## Define true parameters, set true initial conditions and calculate the true temperature field\n",
    "\n",
    "Perhaps obvious, but we do not have this information in real-life."
   ]
  },
  {
   "cell_type": "code",
   "execution_count": null,
   "id": "2fae7cdb",
   "metadata": {},
   "outputs": [],
   "source": [
    "# Number of grid-cells in x and y direction\n",
    "nx = 10\n",
    "\n",
    "# time steps\n",
    "k_start = 0\n",
    "k_end = 100\n",
    "\n",
    "dx = 1\n",
    "\n",
    "# Set the coefficient of heat transfer for each grid cell.\n",
    "# Using trick from page 15 of \"An Introduction to the Numerics of Flow in Porous Media using Matlab\".\n",
    "# It's a nice way to generate realistic-looking parameter fields.\n",
    "# In real life we use third-party tools to generate good (whatever that means) prior parameter fields.\n",
    "alpha_t = np.exp(\n",
    "    5\n",
    "    * gaussian_filter(gaussian_filter(rng.random(size=(nx, nx)), sigma=2.0), sigma=1.0)\n",
    ")\n",
    "\n",
    "# Calculate maximum `dt`.\n",
    "# If higher values are used, the numerical solution will become unstable.\n",
    "dt = dx**2 / (4 * np.max(alpha_t))\n",
    "\n",
    "# True initial temperature field.\n",
    "u_top = 0.0\n",
    "u_left = 0.0\n",
    "u_bottom = 0.0\n",
    "u_right = 0.0\n",
    "u = np.empty((k_end, nx, nx))\n",
    "u.fill(0.0)\n",
    "# Set the boundary conditions\n",
    "u[:, :, :] = np.exp(\n",
    "    8\n",
    "    * gaussian_filter(gaussian_filter(rng.random(size=(nx, nx)), sigma=2.0), sigma=1.0)\n",
    ")\n",
    "u[:, (nx - 1) :, :] = u_top\n",
    "u[:, :, :1] = u_left\n",
    "u[:, :1, 1:] = u_bottom\n",
    "u[:, :, (nx - 1) :] = u_right\n",
    "\n",
    "# How much noise to add to heat equation.\n",
    "# scale = 0.1\n",
    "scale = None\n",
    "\n",
    "u = pde.heat_equation(u, alpha_t, dx, dt, k_start, k_end, rng=rng, scale=scale)"
   ]
  },
  {
   "cell_type": "markdown",
   "id": "47d303d9",
   "metadata": {},
   "source": [
    "# How-to create animation (Press `y` to convert from markdown to code)\n",
    "\n",
    "import matplotlib.animation as animation\n",
    "from matplotlib.animation import FuncAnimation\n",
    "\n",
    "fig, ax = plt.subplots()\n",
    "p = ax.pcolormesh(u[0], cmap=plt.cm.jet, vmin=-150, vmax=150)\n",
    "fig.colorbar(p)\n",
    "\n",
    "def animate(k):\n",
    "    return p.set_array(u[k])\n",
    "\n",
    "anim = animation.FuncAnimation(\n",
    "    fig, animate, interval=1, frames=k_end, repeat=False\n",
    ")\n",
    "anim.save(\"heat_equation_solution.gif\", writer=\"imagemagick\")"
   ]
  },
  {
   "cell_type": "markdown",
   "id": "5e4e6dfb",
   "metadata": {},
   "source": [
    "## Plot every cells' heat transfer coefficient, i.e., the parameter field"
   ]
  },
  {
   "cell_type": "code",
   "execution_count": null,
   "id": "5dce6219",
   "metadata": {},
   "outputs": [],
   "source": [
    "fig, ax = plt.subplots()\n",
    "ax.set_title(\"True parameter field\")\n",
    "p = ax.pcolormesh(alpha_t)\n",
    "utils.colorbar(p)\n",
    "fig.tight_layout()"
   ]
  },
  {
   "cell_type": "markdown",
   "id": "513ae781",
   "metadata": {},
   "source": [
    "## Interactive plot of true temperature field\n",
    "\n",
    "Shows how the temperature of the true field changes with time."
   ]
  },
  {
   "cell_type": "code",
   "execution_count": null,
   "id": "c052fb6f",
   "metadata": {},
   "outputs": [],
   "source": [
    "def interactive_truth(k):\n",
    "    fig, ax = plt.subplots()\n",
    "    fig.suptitle(\"True temperature field\")\n",
    "    p = ax.pcolormesh(u[k], vmin=0, vmax=100)\n",
    "    ax.set_title(f\"k = {k}\")\n",
    "    utils.colorbar(p)\n",
    "    fig.tight_layout()\n",
    "\n",
    "\n",
    "interact(\n",
    "    interactive_truth,\n",
    "    k=widgets.IntSlider(min=k_start, max=k_end - 1, step=1, value=0),\n",
    ")"
   ]
  },
  {
   "cell_type": "markdown",
   "id": "1f0d53c9",
   "metadata": {},
   "source": [
    "## Define placement of sensors and generate synthetic observations based on the true temperature field"
   ]
  },
  {
   "cell_type": "code",
   "execution_count": null,
   "id": "4118c33d",
   "metadata": {},
   "outputs": [],
   "source": [
    "# placement of sensors, i.e, where the observations are done\n",
    "pad = 1\n",
    "coords = np.array([(x, y) for x in range(pad, nx - pad) for y in range(pad, nx - pad)])\n",
    "ncoords = coords.shape[0]\n",
    "nmeas = 64\n",
    "coords_idx = np.random.choice(np.arange(ncoords), size=nmeas, replace=False)\n",
    "obs_coordinates = [utils.Coordinate(xc, yc) for xc, yc in coords[coords_idx]]\n",
    "\n",
    "# At which times observations are taken\n",
    "obs_times = np.linspace(5, k_end, 20, endpoint=False, dtype=int)\n",
    "\n",
    "d = utils.observations(obs_coordinates, obs_times, u, lambda value: abs(0.01 * value))\n",
    "# number of measurements\n",
    "m = d.shape[0]\n",
    "print(\"Number of observations: \", m)\n",
    "\n",
    "# Plot temperature field and show placement of sensors.\n",
    "obs_coordinates = set(zip(d.index.get_level_values(\"x\"), d.index.get_level_values(\"y\")))\n",
    "x, y = zip(*obs_coordinates)\n",
    "\n",
    "fig, ax = plt.subplots()\n",
    "p = ax.pcolormesh(u[0], cmap=plt.cm.viridis, vmin=0, vmax=100)\n",
    "ax.set_title(\"True temperature field with sensor placement\")\n",
    "utils.colorbar(p)\n",
    "ax.plot([i + 0.5 for i in x], [j + 0.5 for j in y], \"s\", color=\"white\", markersize=5)"
   ]
  },
  {
   "cell_type": "markdown",
   "id": "b79429d7",
   "metadata": {},
   "source": [
    "# Ensemble Smoother (ES) and Iterative Ensemble Smoother (IES)"
   ]
  },
  {
   "cell_type": "code",
   "execution_count": null,
   "id": "e35f7a42",
   "metadata": {},
   "outputs": [],
   "source": [
    "# Number of realisations\n",
    "N = 500"
   ]
  },
  {
   "cell_type": "markdown",
   "id": "983cd6e2",
   "metadata": {},
   "source": [
    "## Define random seeds because multiprocessing\n",
    "\n",
    "https://numpy.org/doc/stable/reference/random/parallel.html#seedsequence-spawning"
   ]
  },
  {
   "cell_type": "code",
   "execution_count": null,
   "id": "00986c0d",
   "metadata": {},
   "outputs": [],
   "source": [
    "ss = np.random.SeedSequence(12345)\n",
    "child_seeds = ss.spawn(N)\n",
    "streams = [np.random.default_rng(s) for s in child_seeds]"
   ]
  },
  {
   "cell_type": "markdown",
   "id": "2251cbd6",
   "metadata": {},
   "source": [
    "## Define parameters to run different realisations with, aka the prior"
   ]
  },
  {
   "cell_type": "code",
   "execution_count": null,
   "id": "0170d90d",
   "metadata": {},
   "outputs": [],
   "source": [
    "# List of matrices of size (nx, nx) containing priors.\n",
    "# The reason for having a list is that `p_map` requires it.\n",
    "# `p_map` runs stuff in parallel.\n",
    "alphas = []\n",
    "for i in range(N):\n",
    "    alpha = np.exp(\n",
    "        5\n",
    "        * gaussian_filter(\n",
    "            gaussian_filter(rng.random(size=(nx, nx)), sigma=2.0), sigma=1.0\n",
    "        )\n",
    "    )\n",
    "    alphas.append(alpha)\n",
    "\n",
    "# Evensens' formulation of the Ensemble Smoother has the prior as\n",
    "# a (nx * nx, N) matrix, i.e (number of parameters, N).\n",
    "A = np.zeros(shape=(nx * nx, N))\n",
    "for e in range(N):\n",
    "    A[:, e] = alphas[e].ravel()"
   ]
  },
  {
   "cell_type": "markdown",
   "id": "aa4ee939",
   "metadata": {},
   "source": [
    "## Interactive plot of prior parameter fields\n",
    "\n",
    "We will search for solutions in the space spanned by the prior parameter fields."
   ]
  },
  {
   "cell_type": "code",
   "execution_count": null,
   "id": "6824fa24",
   "metadata": {},
   "outputs": [],
   "source": [
    "def interactive_prior_fields(n):\n",
    "    fig, ax = plt.subplots()\n",
    "    ax.set_title(f\"Prior field {n}\")\n",
    "    p = ax.pcolormesh(alphas[n])\n",
    "    utils.colorbar(p)\n",
    "    fig.tight_layout()\n",
    "\n",
    "\n",
    "interact(\n",
    "    interactive_prior_fields,\n",
    "    n=widgets.IntSlider(min=0, max=N - 1, step=1, value=0),\n",
    ")"
   ]
  },
  {
   "cell_type": "markdown",
   "id": "e2b02d1d",
   "metadata": {},
   "source": [
    "## Run forward model (heat equation) `N` times"
   ]
  },
  {
   "cell_type": "code",
   "execution_count": null,
   "id": "4e24d8ed",
   "metadata": {},
   "outputs": [],
   "source": [
    "dt = dx**2 / (4 * np.max(A))\n",
    "fwd_runs = p_map(\n",
    "    pde.heat_equation,\n",
    "    [u] * N,\n",
    "    alphas,\n",
    "    [dx] * N,\n",
    "    [dt] * N,\n",
    "    [k_start] * N,\n",
    "    [k_end] * N,\n",
    "    streams,\n",
    "    [scale] * N,\n",
    "    desc=f\"Running forward model.\",\n",
    ")"
   ]
  },
  {
   "cell_type": "markdown",
   "id": "51213b21",
   "metadata": {},
   "source": [
    "## Interactive plot of single realisations"
   ]
  },
  {
   "cell_type": "code",
   "execution_count": null,
   "id": "8591e862",
   "metadata": {},
   "outputs": [],
   "source": [
    "def interactive_realisations(k, n):\n",
    "    fig, ax = plt.subplots()\n",
    "    fig.suptitle(f\"Temperature field for realisation {n}\")\n",
    "    p = ax.pcolormesh(fwd_runs[n][k], vmin=0, vmax=100)\n",
    "    ax.set_title(f\"k = {k}\")\n",
    "    utils.colorbar(p)\n",
    "    fig.tight_layout()\n",
    "\n",
    "\n",
    "interact(\n",
    "    interactive_realisations,\n",
    "    k=widgets.IntSlider(min=k_start, max=k_end - 1, step=1, value=0),\n",
    "    n=widgets.IntSlider(min=0, max=N - 1, step=1, value=0),\n",
    ")"
   ]
  },
  {
   "cell_type": "markdown",
   "id": "3c78a74a",
   "metadata": {},
   "source": [
    "## Ensemble representation for measurements (Section 9.4 of [1])\n",
    "\n",
    "Note that Evensen calls measurements what ERT calls observations."
   ]
  },
  {
   "cell_type": "code",
   "execution_count": null,
   "id": "cde49a43",
   "metadata": {},
   "outputs": [],
   "source": [
    "# Assume diagonal ensemble covariance matrix for the measurement perturbations.\n",
    "Cdd = np.diag(d.sd.values**2)\n",
    "\n",
    "# 9.4 Ensemble representation for measurements\n",
    "E = rng.multivariate_normal(mean=np.zeros(len(Cdd)), cov=Cdd, size=N).T\n",
    "E = E - E.mean(axis=1, keepdims=True)\n",
    "assert E.shape == (m, N)\n",
    "\n",
    "# We will not use the sample covariance Cee, and instead use Cdd directly.\n",
    "# It is not clear to us why Cee is proposed used.\n",
    "# Cee = (E @ E.T) / (N - 1)\n",
    "\n",
    "D = np.ones((m, N)) * d.value.values.reshape(-1, 1) + E"
   ]
  },
  {
   "cell_type": "markdown",
   "id": "f231fbca",
   "metadata": {},
   "source": [
    "## Measure model response at points in time and space where we have observations"
   ]
  },
  {
   "cell_type": "code",
   "execution_count": null,
   "id": "d8c60711",
   "metadata": {},
   "outputs": [],
   "source": [
    "Y = np.array(\n",
    "    [\n",
    "        fwd_run[\n",
    "            d.index.get_level_values(\"k\").to_list(),\n",
    "            d.index.get_level_values(\"y\").to_list(),\n",
    "            d.index.get_level_values(\"x\").to_list(),\n",
    "        ]\n",
    "        for fwd_run in fwd_runs\n",
    "    ]\n",
    ").T\n",
    "\n",
    "assert Y.shape == (\n",
    "    m,\n",
    "    N,\n",
    "), \"Measured responses must be a matrix with dimensions (number of observations x number of realisations)\""
   ]
  },
  {
   "cell_type": "code",
   "execution_count": null,
   "id": "d1cdaf08",
   "metadata": {},
   "outputs": [],
   "source": [
    "enough_ens_var_idx = Y.var(axis=1) > 1e-6\n",
    "print(f\"{list(enough_ens_var_idx).count(False)} measurements will be deactivated.\")\n",
    "Y = Y[enough_ens_var_idx, :]\n",
    "D = D[enough_ens_var_idx, :]\n",
    "Cdd = Cdd[enough_ens_var_idx, :]\n",
    "Cdd = Cdd[:, enough_ens_var_idx]"
   ]
  },
  {
   "cell_type": "markdown",
   "id": "31d8d920",
   "metadata": {},
   "source": [
    "## Perform ES update"
   ]
  },
  {
   "cell_type": "code",
   "execution_count": null,
   "id": "43d5eac9",
   "metadata": {},
   "outputs": [],
   "source": [
    "X = analysis.ES(Y, D, Cdd)\n",
    "A_ES = (A - A.mean(axis=1, keepdims=True)) @ X"
   ]
  },
  {
   "cell_type": "code",
   "execution_count": null,
   "id": "35b543bb",
   "metadata": {},
   "outputs": [],
   "source": [
    "# The update may give non-physical parameter values, which here means negative heat conductivity.\n",
    "# Setting negative values to a small positive value but not zero because we want to be able to divide by them.\n",
    "A_ES = A_ES.clip(min=1e-8)"
   ]
  },
  {
   "cell_type": "markdown",
   "id": "79b6fdce",
   "metadata": {},
   "source": [
    "## Testing the new iterative_ensemble_smoother package"
   ]
  },
  {
   "cell_type": "code",
   "execution_count": null,
   "id": "a876a1a9",
   "metadata": {},
   "outputs": [],
   "source": [
    "A_ES_ert = ies.ensemble_smoother_update_step(\n",
    "    Y, A - A.mean(axis=1, keepdims=True), d.sd.values, d.value.values\n",
    ")"
   ]
  },
  {
   "cell_type": "markdown",
   "id": "e37beab6",
   "metadata": {},
   "source": [
    "## Comparing prior and posterior\n",
    "\n",
    "The posterior calculated by ES is on average expected to be closer to the truth than the prior.\n",
    "By \"closer\", we mean in terms of Root Mean Squared Error (RMSE).\n",
    "The reason for this is that ES is based on the Kalman Filter, which is the \"Best Linear Unbiased Estimator\" (BLUE) and BLUE estimators have this property.\n",
    "However, this holds for certain only when the number of realizations tends to infinity.\n",
    "In practice this mean that we might end up with an increased RMSE when using a finite number of realizations."
   ]
  },
  {
   "cell_type": "code",
   "execution_count": null,
   "id": "c28ef94a",
   "metadata": {},
   "outputs": [],
   "source": [
    "err_posterior = alpha_t.ravel() - A_ES.mean(axis=1)\n",
    "np.sqrt(np.mean(err_posterior * err_posterior))"
   ]
  },
  {
   "cell_type": "code",
   "execution_count": null,
   "id": "61020644",
   "metadata": {},
   "outputs": [],
   "source": [
    "err_posterior_ert = alpha_t.ravel() - A_ES_ert.mean(axis=1)\n",
    "np.sqrt(np.mean(err_posterior_ert * err_posterior_ert))"
   ]
  },
  {
   "cell_type": "code",
   "execution_count": null,
   "id": "a6d405d7",
   "metadata": {},
   "outputs": [],
   "source": [
    "err_prior = alpha_t.ravel() - A.mean(axis=1)\n",
    "np.sqrt(np.mean(err_prior * err_prior))"
   ]
  },
  {
   "cell_type": "code",
   "execution_count": null,
   "id": "8927afc6",
   "metadata": {},
   "outputs": [],
   "source": [
    "fig, ax = plt.subplots(nrows=1, ncols=4)\n",
    "fig.set_size_inches(10, 10)\n",
    "\n",
    "ax[0].set_title(f\"Posterior dass\")\n",
    "ax[1].set_title(f\"Posterior ert\")\n",
    "ax[2].set_title(f\"Truth\")\n",
    "ax[3].set_title(f\"Prior\")\n",
    "\n",
    "p0 = ax[0].pcolormesh(A_ES.mean(axis=1).reshape(nx, nx))\n",
    "p1 = ax[1].pcolormesh(A_ES_ert.mean(axis=1).reshape(nx, nx))\n",
    "p2 = ax[2].pcolormesh(alpha_t)\n",
    "p3 = ax[3].pcolormesh(A.mean(axis=1).reshape(nx, nx))\n",
    "\n",
    "utils.colorbar(p0)\n",
    "utils.colorbar(p1)\n",
    "utils.colorbar(p2)\n",
    "utils.colorbar(p3)\n",
    "\n",
    "ax[0].set_aspect(\"equal\", \"box\")\n",
    "ax[1].set_aspect(\"equal\", \"box\")\n",
    "ax[2].set_aspect(\"equal\", \"box\")\n",
    "ax[3].set_aspect(\"equal\", \"box\")\n",
    "\n",
    "fig.tight_layout()"
   ]
  },
  {
   "cell_type": "markdown",
   "id": "47f6c07f",
   "metadata": {},
   "source": [
    "# IES"
   ]
  },
  {
   "cell_type": "code",
   "execution_count": null,
   "id": "88467808",
   "metadata": {},
   "outputs": [],
   "source": [
    "# Step length in Gauss Newton\n",
    "gamma = 1.0\n",
    "\n",
    "# Coefficient matrix as defined in Eq. 16 and Eq. 17.\n",
    "W = np.zeros(shape=(N, N))"
   ]
  },
  {
   "cell_type": "markdown",
   "id": "f568db80",
   "metadata": {},
   "source": [
    "## Check that single iteration of IES with step length 1.0 is the same as ES."
   ]
  },
  {
   "cell_type": "code",
   "execution_count": null,
   "id": "2ec97725",
   "metadata": {
    "lines_to_next_cell": 2
   },
   "outputs": [],
   "source": [
    "W = analysis.IES(Y, D, Cdd, W, gamma)\n",
    "X_IES = np.identity(N) + W"
   ]
  },
  {
   "cell_type": "code",
   "execution_count": null,
   "id": "49b4a725",
   "metadata": {},
   "outputs": [],
   "source": []
  }
 ],
 "metadata": {
  "jupytext": {
   "formats": "ipynb,py:percent"
  },
  "kernelspec": {
   "display_name": "Python 3 (ipykernel)",
   "language": "python",
   "name": "python3"
  },
  "language_info": {
   "codemirror_mode": {
    "name": "ipython",
    "version": 3
   },
   "file_extension": ".py",
   "mimetype": "text/x-python",
   "name": "python",
   "nbconvert_exporter": "python",
   "pygments_lexer": "ipython3",
   "version": "3.9.14"
  }
 },
 "nbformat": 4,
 "nbformat_minor": 5
}
