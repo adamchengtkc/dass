{
 "cells": [
  {
   "cell_type": "markdown",
   "id": "bd543822-7c85-4a35-beba-49fa33a94ff6",
   "metadata": {},
   "source": [
    "# EnKF using 2D heat equation"
   ]
  },
  {
   "cell_type": "code",
   "execution_count": 1,
   "id": "38099d82-c622-4bfa-9660-ca1cc52d8889",
   "metadata": {},
   "outputs": [],
   "source": [
    "%load_ext autoreload"
   ]
  },
  {
   "cell_type": "code",
   "execution_count": 2,
   "id": "d7f85a55-ac09-4326-be37-606a0f658137",
   "metadata": {},
   "outputs": [],
   "source": [
    "import numpy as np\n",
    "\n",
    "np.set_printoptions(suppress=True)\n",
    "rng = np.random.default_rng()\n",
    "\n",
    "import matplotlib.pyplot as plt\n",
    "\n",
    "plt.rcParams[\"figure.figsize\"] = (6, 6)\n",
    "plt.rcParams.update({\"font.size\": 10})\n",
    "# Ignore error when drawing many figures\n",
    "plt.rcParams.update({\"figure.max_open_warning\": 0})\n",
    "from ipywidgets import interact\n",
    "import ipywidgets as widgets\n",
    "\n",
    "from p_tqdm import p_map\n",
    "\n",
    "from scipy.ndimage import gaussian_filter"
   ]
  },
  {
   "cell_type": "code",
   "execution_count": 3,
   "id": "70cda3a2",
   "metadata": {},
   "outputs": [],
   "source": [
    "%autoreload 2\n",
    "from dass import pde, utils, analysis, taper"
   ]
  },
  {
   "cell_type": "markdown",
   "id": "fc39a68c",
   "metadata": {},
   "source": [
    "# EnKF\n",
    "\n",
    "Constant parameter, unknown field.\n",
    "Stop forward model at every point in time where we have observations."
   ]
  },
  {
   "cell_type": "markdown",
   "id": "d1907401",
   "metadata": {},
   "source": [
    "## Define parameters, set true initial conditions and calculate the true temperature field"
   ]
  },
  {
   "cell_type": "code",
   "execution_count": 4,
   "id": "6a262c96",
   "metadata": {},
   "outputs": [],
   "source": [
    "N = 100\n",
    "\n",
    "k_start = 0\n",
    "k_end = 300\n",
    "\n",
    "# Number of grid-cells in x and y direction\n",
    "nx = 10\n",
    "\n",
    "# Set the coefficient of heat transfer for each grid cell.\n",
    "# Using trick from page 15 of \"An Introduction to the Numerics of Flow in Porous Media using Matlab\".\n",
    "# It's a nice way to generate realistic-looking parameter fields.\n",
    "# In real life we use third-party tools to generate good (whatever that means) prior parameter fields.\n",
    "alpha_t = np.exp(\n",
    "    5\n",
    "    * gaussian_filter(gaussian_filter(rng.random(size=(nx, nx)), sigma=2.0), sigma=1.0)\n",
    ")\n",
    "\n",
    "\n",
    "dx = 1\n",
    "dt = dx**2 / (4 * np.max(alpha_t))\n",
    "\n",
    "# True initial temperature field.\n",
    "u_top = 100.0\n",
    "u_init = np.empty((k_end, nx, nx))\n",
    "u_init.fill(0.0)\n",
    "\n",
    "# Set the boundary conditions\n",
    "u_init[:, 1 : (nx - 1), 0] = u_top\n",
    "\n",
    "# How much noise to add to heat equation, also called model noise.\n",
    "# scale = 0.1\n",
    "scale = None\n",
    "\n",
    "u_t = pde.heat_equation(u_init, alpha_t, dx, dt, k_start, k_end, rng=rng, scale=scale)"
   ]
  },
  {
   "cell_type": "markdown",
   "id": "be1a7df7",
   "metadata": {},
   "source": [
    "## Interactive plot of true temperature field"
   ]
  },
  {
   "cell_type": "code",
   "execution_count": 5,
   "id": "82a85378",
   "metadata": {},
   "outputs": [
    {
     "data": {
      "application/vnd.jupyter.widget-view+json": {
       "model_id": "26b883e19c1849d88adb4f6f0849acc6",
       "version_major": 2,
       "version_minor": 0
      },
      "text/plain": [
       "interactive(children=(IntSlider(value=0, description='k', max=299), Output()), _dom_classes=('widget-interact'…"
      ]
     },
     "metadata": {},
     "output_type": "display_data"
    },
    {
     "data": {
      "text/plain": [
       "<function __main__.interactive_truth(k)>"
      ]
     },
     "execution_count": 5,
     "metadata": {},
     "output_type": "execute_result"
    }
   ],
   "source": [
    "def interactive_truth(k):\n",
    "    fig, ax = plt.subplots()\n",
    "    fig.suptitle(\"True temperature field\")\n",
    "    p = ax.pcolormesh(u_t[k].T, cmap=plt.cm.jet)\n",
    "    ax.set_title(f\"k = {k}\")\n",
    "    ax.invert_yaxis()\n",
    "    utils.colorbar(p)\n",
    "    fig.tight_layout()\n",
    "\n",
    "\n",
    "interact(\n",
    "    interactive_truth,\n",
    "    k=widgets.IntSlider(min=k_start, max=k_end - 1, step=1, value=0),\n",
    ")"
   ]
  },
  {
   "cell_type": "markdown",
   "id": "0acbd36e",
   "metadata": {},
   "source": [
    "## Define random seeds because multiprocessing\n",
    "\n",
    "https://numpy.org/doc/stable/reference/random/parallel.html#seedsequence-spawning"
   ]
  },
  {
   "cell_type": "code",
   "execution_count": 6,
   "id": "26e91a00",
   "metadata": {},
   "outputs": [],
   "source": [
    "ss = np.random.SeedSequence(12345)\n",
    "child_seeds = ss.spawn(N)\n",
    "streams = [np.random.default_rng(s) for s in child_seeds]"
   ]
  },
  {
   "cell_type": "markdown",
   "id": "4a6f06a3",
   "metadata": {},
   "source": [
    "## Define placement of sensors and generate synthetic observations based on the true temperature field"
   ]
  },
  {
   "cell_type": "code",
   "execution_count": 7,
   "id": "3770111b",
   "metadata": {},
   "outputs": [
    {
     "name": "stdout",
     "output_type": "stream",
     "text": [
      "Number of observations:  2000\n"
     ]
    },
    {
     "data": {
      "text/plain": [
       "[<matplotlib.lines.Line2D at 0x13daf34c0>]"
      ]
     },
     "execution_count": 7,
     "metadata": {},
     "output_type": "execute_result"
    },
    {
     "data": {
      "image/png": "[encoded data removed]",
      "text/plain": [
       "<Figure size 600x600 with 2 Axes>"
      ]
     },
     "metadata": {},
     "output_type": "display_data"
    }
   ],
   "source": [
    "# placement of sensors, i.e, where the observations are done\n",
    "pad = 1\n",
    "coords = np.array([(x, y) for x in range(pad, nx - pad) for y in range(pad, nx - pad)])\n",
    "ncoords = coords.shape[0]\n",
    "nmeas = 40\n",
    "coords_idx = np.random.choice(np.arange(ncoords), size=nmeas, replace=False)\n",
    "obs_coordinates = [utils.Coordinate(xc, yc) for xc, yc in coords[coords_idx]]\n",
    "\n",
    "# At which times observations are taken\n",
    "obs_times = np.linspace(5, k_end, 50, endpoint=False, dtype=int)\n",
    "\n",
    "d = utils.observations(obs_coordinates, obs_times, u_t, lambda value: abs(0.05 * value))\n",
    "# number of measurements\n",
    "m = d.shape[0]\n",
    "print(\"Number of observations: \", m)\n",
    "\n",
    "k_levels = d.index.get_level_values(\"k\").to_list()\n",
    "x_levels = d.index.get_level_values(\"x\").to_list()\n",
    "y_levels = d.index.get_level_values(\"y\").to_list()\n",
    "\n",
    "# Plot temperature field and show placement of sensors.\n",
    "obs_coordinates_from_index = set(zip(x_levels, y_levels))\n",
    "x, y = zip(*obs_coordinates_from_index)\n",
    "\n",
    "fig, ax = plt.subplots()\n",
    "p = ax.pcolormesh(u_t[0].T, cmap=plt.cm.jet)\n",
    "ax.invert_yaxis()\n",
    "ax.set_title(\"True temperature field with sensor placement\")\n",
    "utils.colorbar(p)\n",
    "ax.plot([i + 0.5 for i in x], [j + 0.5 for j in y], \"s\", color=\"white\", markersize=5)"
   ]
  },
  {
   "cell_type": "code",
   "execution_count": 8,
   "id": "95bfa1bc",
   "metadata": {},
   "outputs": [],
   "source": [
    "def gen_field():\n",
    "    u = np.empty((k_end, nx, nx))\n",
    "\n",
    "    u_top = 100.0\n",
    "    u_init = np.empty((k_end, nx, nx))\n",
    "    u_init.fill(0.0)\n",
    "\n",
    "    # Set the boundary conditions\n",
    "    u_init[:, 1 : (nx - 1), 0] = u_top + rng.normal()\n",
    "\n",
    "    return u\n",
    "\n",
    "\n",
    "fields = [gen_field() for _ in range(N)]"
   ]
  },
  {
   "cell_type": "code",
   "execution_count": 9,
   "id": "e24740ee",
   "metadata": {},
   "outputs": [],
   "source": [
    "def matrix_from_fields(fields, k):\n",
    "    nx = fields[0][0].shape[0]\n",
    "    A = np.zeros(shape=(nx * nx, N))\n",
    "    for f in range(len(fields)):\n",
    "        A[:, f] = fields[f][k].ravel()\n",
    "    return A"
   ]
  },
  {
   "cell_type": "markdown",
   "id": "7786d444",
   "metadata": {},
   "source": [
    "## Plot tapering function used for localisation"
   ]
  },
  {
   "cell_type": "code",
   "execution_count": 10,
   "id": "625c61e0",
   "metadata": {},
   "outputs": [
    {
     "data": {
      "text/plain": [
       "[<matplotlib.lines.Line2D at 0x13db5a730>]"
      ]
     },
     "execution_count": 10,
     "metadata": {},
     "output_type": "execute_result"
    },
    {
     "data": {
      "image/png": "[encoded data removed]",
      "text/plain": [
       "<Figure size 600x600 with 1 Axes>"
      ]
     },
     "metadata": {},
     "output_type": "display_data"
    }
   ],
   "source": [
    "fig, ax = plt.subplots()\n",
    "ax.plot(taper.gauss(np.linspace(-nx, nx), 3.0))"
   ]
  },
  {
   "cell_type": "code",
   "execution_count": 11,
   "id": "dfae7f13",
   "metadata": {},
   "outputs": [
    {
     "data": {
      "application/vnd.jupyter.widget-view+json": {
       "model_id": "f6a7dbcc83734d379088e816b4846b51",
       "version_major": 2,
       "version_minor": 0
      },
      "text/plain": [
       "Running forward model from 0 to 5:   0%|          | 0/100 [00:00<?, ?it/s]"
      ]
     },
     "metadata": {},
     "output_type": "display_data"
    },
    {
     "data": {
      "application/vnd.jupyter.widget-view+json": {
       "model_id": "ea53b043510147809084834085b9c3e1",
       "version_major": 2,
       "version_minor": 0
      },
      "text/plain": [
       "Running forward model from 5 to 10:   0%|          | 0/100 [00:00<?, ?it/s]"
      ]
     },
     "metadata": {},
     "output_type": "display_data"
    },
    {
     "data": {
      "application/vnd.jupyter.widget-view+json": {
       "model_id": "f9248613fbfe4fa1929261d3bf55a485",
       "version_major": 2,
       "version_minor": 0
      },
      "text/plain": [
       "Running forward model from 10 to 16:   0%|          | 0/100 [00:00<?, ?it/s]"
      ]
     },
     "metadata": {},
     "output_type": "display_data"
    },
    {
     "data": {
      "application/vnd.jupyter.widget-view+json": {
       "model_id": "0e69fecb28a045a2abcfb97ea54aa301",
       "version_major": 2,
       "version_minor": 0
      },
      "text/plain": [
       "Running forward model from 16 to 22:   0%|          | 0/100 [00:00<?, ?it/s]"
      ]
     },
     "metadata": {},
     "output_type": "display_data"
    },
    {
     "data": {
      "application/vnd.jupyter.widget-view+json": {
       "model_id": "869e3126135f4725a1bb3e5fc3511204",
       "version_major": 2,
       "version_minor": 0
      },
      "text/plain": [
       "Running forward model from 22 to 28:   0%|          | 0/100 [00:00<?, ?it/s]"
      ]
     },
     "metadata": {},
     "output_type": "display_data"
    },
    {
     "data": {
      "application/vnd.jupyter.widget-view+json": {
       "model_id": "b23b2b2cd5334ecd83d9cac11c8f9cf1",
       "version_major": 2,
       "version_minor": 0
      },
      "text/plain": [
       "Running forward model from 28 to 34:   0%|          | 0/100 [00:00<?, ?it/s]"
      ]
     },
     "metadata": {},
     "output_type": "display_data"
    },
    {
     "data": {
      "application/vnd.jupyter.widget-view+json": {
       "model_id": "7081dbc32a7b414086eb71f2c392b855",
       "version_major": 2,
       "version_minor": 0
      },
      "text/plain": [
       "Running forward model from 34 to 40:   0%|          | 0/100 [00:00<?, ?it/s]"
      ]
     },
     "metadata": {},
     "output_type": "display_data"
    },
    {
     "data": {
      "application/vnd.jupyter.widget-view+json": {
       "model_id": "59ad406a16be4dd5bed30d600c1299d2",
       "version_major": 2,
       "version_minor": 0
      },
      "text/plain": [
       "Running forward model from 40 to 46:   0%|          | 0/100 [00:00<?, ?it/s]"
      ]
     },
     "metadata": {},
     "output_type": "display_data"
    },
    {
     "data": {
      "application/vnd.jupyter.widget-view+json": {
       "model_id": "7e0356bbe78244509e7ff2ad54ef4794",
       "version_major": 2,
       "version_minor": 0
      },
      "text/plain": [
       "Running forward model from 46 to 52:   0%|          | 0/100 [00:00<?, ?it/s]"
      ]
     },
     "metadata": {},
     "output_type": "display_data"
    },
    {
     "data": {
      "application/vnd.jupyter.widget-view+json": {
       "model_id": "4be6cf91f03245e5a0369d19969161c7",
       "version_major": 2,
       "version_minor": 0
      },
      "text/plain": [
       "Running forward model from 52 to 58:   0%|          | 0/100 [00:00<?, ?it/s]"
      ]
     },
     "metadata": {},
     "output_type": "display_data"
    },
    {
     "data": {
      "application/vnd.jupyter.widget-view+json": {
       "model_id": "009bf69e83fe4c559521fe6f338b3f27",
       "version_major": 2,
       "version_minor": 0
      },
      "text/plain": [
       "Running forward model from 58 to 64:   0%|          | 0/100 [00:00<?, ?it/s]"
      ]
     },
     "metadata": {},
     "output_type": "display_data"
    },
    {
     "data": {
      "application/vnd.jupyter.widget-view+json": {
       "model_id": "b3e58eacde7e4b8bbcf58a330adee8ab",
       "version_major": 2,
       "version_minor": 0
      },
      "text/plain": [
       "Running forward model from 64 to 69:   0%|          | 0/100 [00:00<?, ?it/s]"
      ]
     },
     "metadata": {},
     "output_type": "display_data"
    },
    {
     "data": {
      "application/vnd.jupyter.widget-view+json": {
       "model_id": "7d188e2768d74c648f79ed94690923a6",
       "version_major": 2,
       "version_minor": 0
      },
      "text/plain": [
       "Running forward model from 69 to 75:   0%|          | 0/100 [00:00<?, ?it/s]"
      ]
     },
     "metadata": {},
     "output_type": "display_data"
    },
    {
     "data": {
      "application/vnd.jupyter.widget-view+json": {
       "model_id": "40aa4ff9ac844f47b79c824a659862d2",
       "version_major": 2,
       "version_minor": 0
      },
      "text/plain": [
       "Running forward model from 75 to 81:   0%|          | 0/100 [00:00<?, ?it/s]"
      ]
     },
     "metadata": {},
     "output_type": "display_data"
    },
    {
     "data": {
      "application/vnd.jupyter.widget-view+json": {
       "model_id": "06528d2d11b1446cb198b727aceab961",
       "version_major": 2,
       "version_minor": 0
      },
      "text/plain": [
       "Running forward model from 81 to 87:   0%|          | 0/100 [00:00<?, ?it/s]"
      ]
     },
     "metadata": {},
     "output_type": "display_data"
    },
    {
     "data": {
      "application/vnd.jupyter.widget-view+json": {
       "model_id": "58c500e31c1247e58746414e21115f9d",
       "version_major": 2,
       "version_minor": 0
      },
      "text/plain": [
       "Running forward model from 87 to 93:   0%|          | 0/100 [00:00<?, ?it/s]"
      ]
     },
     "metadata": {},
     "output_type": "display_data"
    },
    {
     "data": {
      "application/vnd.jupyter.widget-view+json": {
       "model_id": "6b032e12972e4660948eda9eee89c59b",
       "version_major": 2,
       "version_minor": 0
      },
      "text/plain": [
       "Running forward model from 93 to 99:   0%|          | 0/100 [00:00<?, ?it/s]"
      ]
     },
     "metadata": {},
     "output_type": "display_data"
    },
    {
     "data": {
      "application/vnd.jupyter.widget-view+json": {
       "model_id": "6301f3911adc42af928183f2c36aea41",
       "version_major": 2,
       "version_minor": 0
      },
      "text/plain": [
       "Running forward model from 99 to 105:   0%|          | 0/100 [00:00<?, ?it/s]"
      ]
     },
     "metadata": {},
     "output_type": "display_data"
    },
    {
     "data": {
      "application/vnd.jupyter.widget-view+json": {
       "model_id": "ed52c84a1c114ca1a775caf24ddecf6c",
       "version_major": 2,
       "version_minor": 0
      },
      "text/plain": [
       "Running forward model from 105 to 111:   0%|          | 0/100 [00:00<?, ?it/s]"
      ]
     },
     "metadata": {},
     "output_type": "display_data"
    },
    {
     "data": {
      "application/vnd.jupyter.widget-view+json": {
       "model_id": "2b8330c16df04dee9c5a8914bd573170",
       "version_major": 2,
       "version_minor": 0
      },
      "text/plain": [
       "Running forward model from 111 to 117:   0%|          | 0/100 [00:00<?, ?it/s]"
      ]
     },
     "metadata": {},
     "output_type": "display_data"
    },
    {
     "data": {
      "application/vnd.jupyter.widget-view+json": {
       "model_id": "d95d83fe9bb341af83e6b2661d2a3db1",
       "version_major": 2,
       "version_minor": 0
      },
      "text/plain": [
       "Running forward model from 117 to 123:   0%|          | 0/100 [00:00<?, ?it/s]"
      ]
     },
     "metadata": {},
     "output_type": "display_data"
    },
    {
     "data": {
      "application/vnd.jupyter.widget-view+json": {
       "model_id": "da181390176845388ac3886b7e074769",
       "version_major": 2,
       "version_minor": 0
      },
      "text/plain": [
       "Running forward model from 123 to 128:   0%|          | 0/100 [00:00<?, ?it/s]"
      ]
     },
     "metadata": {},
     "output_type": "display_data"
    },
    {
     "data": {
      "application/vnd.jupyter.widget-view+json": {
       "model_id": "2ab99c386eea4f118cd1f59148a99183",
       "version_major": 2,
       "version_minor": 0
      },
      "text/plain": [
       "Running forward model from 128 to 134:   0%|          | 0/100 [00:00<?, ?it/s]"
      ]
     },
     "metadata": {},
     "output_type": "display_data"
    },
    {
     "data": {
      "application/vnd.jupyter.widget-view+json": {
       "model_id": "d3d82db201384815b2aaa8f3de32b519",
       "version_major": 2,
       "version_minor": 0
      },
      "text/plain": [
       "Running forward model from 134 to 140:   0%|          | 0/100 [00:00<?, ?it/s]"
      ]
     },
     "metadata": {},
     "output_type": "display_data"
    },
    {
     "data": {
      "application/vnd.jupyter.widget-view+json": {
       "model_id": "99f5dcc84c6f4eaea43825bcd1baebd4",
       "version_major": 2,
       "version_minor": 0
      },
      "text/plain": [
       "Running forward model from 140 to 146:   0%|          | 0/100 [00:00<?, ?it/s]"
      ]
     },
     "metadata": {},
     "output_type": "display_data"
    },
    {
     "data": {
      "application/vnd.jupyter.widget-view+json": {
       "model_id": "3d67c119244c49d296df543e0ff04820",
       "version_major": 2,
       "version_minor": 0
      },
      "text/plain": [
       "Running forward model from 146 to 152:   0%|          | 0/100 [00:00<?, ?it/s]"
      ]
     },
     "metadata": {},
     "output_type": "display_data"
    },
    {
     "data": {
      "application/vnd.jupyter.widget-view+json": {
       "model_id": "12cc8f4d47da429fb692a59f3d0aafbe",
       "version_major": 2,
       "version_minor": 0
      },
      "text/plain": [
       "Running forward model from 152 to 158:   0%|          | 0/100 [00:00<?, ?it/s]"
      ]
     },
     "metadata": {},
     "output_type": "display_data"
    },
    {
     "data": {
      "application/vnd.jupyter.widget-view+json": {
       "model_id": "bfb5cd1665c64fcbbddc56fd726918c5",
       "version_major": 2,
       "version_minor": 0
      },
      "text/plain": [
       "Running forward model from 158 to 164:   0%|          | 0/100 [00:00<?, ?it/s]"
      ]
     },
     "metadata": {},
     "output_type": "display_data"
    },
    {
     "data": {
      "application/vnd.jupyter.widget-view+json": {
       "model_id": "07193942a3ad40b49294eb6281127c44",
       "version_major": 2,
       "version_minor": 0
      },
      "text/plain": [
       "Running forward model from 164 to 170:   0%|          | 0/100 [00:00<?, ?it/s]"
      ]
     },
     "metadata": {},
     "output_type": "display_data"
    },
    {
     "data": {
      "application/vnd.jupyter.widget-view+json": {
       "model_id": "edec327a081c4ca98c287629c21b476d",
       "version_major": 2,
       "version_minor": 0
      },
      "text/plain": [
       "Running forward model from 170 to 176:   0%|          | 0/100 [00:00<?, ?it/s]"
      ]
     },
     "metadata": {},
     "output_type": "display_data"
    },
    {
     "data": {
      "application/vnd.jupyter.widget-view+json": {
       "model_id": "8af2f588349d4d569f6645074de6337a",
       "version_major": 2,
       "version_minor": 0
      },
      "text/plain": [
       "Running forward model from 176 to 182:   0%|          | 0/100 [00:00<?, ?it/s]"
      ]
     },
     "metadata": {},
     "output_type": "display_data"
    },
    {
     "data": {
      "application/vnd.jupyter.widget-view+json": {
       "model_id": "cad54ed4e5114ec5bf20d984c43521e5",
       "version_major": 2,
       "version_minor": 0
      },
      "text/plain": [
       "Running forward model from 182 to 187:   0%|          | 0/100 [00:00<?, ?it/s]"
      ]
     },
     "metadata": {},
     "output_type": "display_data"
    },
    {
     "data": {
      "application/vnd.jupyter.widget-view+json": {
       "model_id": "4dfb0556f3734c4280e41117f3aeabeb",
       "version_major": 2,
       "version_minor": 0
      },
      "text/plain": [
       "Running forward model from 187 to 193:   0%|          | 0/100 [00:00<?, ?it/s]"
      ]
     },
     "metadata": {},
     "output_type": "display_data"
    },
    {
     "data": {
      "application/vnd.jupyter.widget-view+json": {
       "model_id": "16af938cea0147bfadff2fc7e7db7762",
       "version_major": 2,
       "version_minor": 0
      },
      "text/plain": [
       "Running forward model from 193 to 199:   0%|          | 0/100 [00:00<?, ?it/s]"
      ]
     },
     "metadata": {},
     "output_type": "display_data"
    },
    {
     "data": {
      "application/vnd.jupyter.widget-view+json": {
       "model_id": "a0d9ae1b172845dd9fd69c7f9682e910",
       "version_major": 2,
       "version_minor": 0
      },
      "text/plain": [
       "Running forward model from 199 to 205:   0%|          | 0/100 [00:00<?, ?it/s]"
      ]
     },
     "metadata": {},
     "output_type": "display_data"
    },
    {
     "data": {
      "application/vnd.jupyter.widget-view+json": {
       "model_id": "d515f6daa80c4142ad4f057840443ba9",
       "version_major": 2,
       "version_minor": 0
      },
      "text/plain": [
       "Running forward model from 205 to 211:   0%|          | 0/100 [00:00<?, ?it/s]"
      ]
     },
     "metadata": {},
     "output_type": "display_data"
    },
    {
     "data": {
      "application/vnd.jupyter.widget-view+json": {
       "model_id": "21d8df541dfd4a2795afc18a66153e48",
       "version_major": 2,
       "version_minor": 0
      },
      "text/plain": [
       "Running forward model from 211 to 217:   0%|          | 0/100 [00:00<?, ?it/s]"
      ]
     },
     "metadata": {},
     "output_type": "display_data"
    },
    {
     "data": {
      "application/vnd.jupyter.widget-view+json": {
       "model_id": "f5e3635e6e2748d6aa444d560a03c154",
       "version_major": 2,
       "version_minor": 0
      },
      "text/plain": [
       "Running forward model from 217 to 223:   0%|          | 0/100 [00:00<?, ?it/s]"
      ]
     },
     "metadata": {},
     "output_type": "display_data"
    },
    {
     "data": {
      "application/vnd.jupyter.widget-view+json": {
       "model_id": "71064c2183874ae7b379a92671fa970e",
       "version_major": 2,
       "version_minor": 0
      },
      "text/plain": [
       "Running forward model from 223 to 229:   0%|          | 0/100 [00:00<?, ?it/s]"
      ]
     },
     "metadata": {},
     "output_type": "display_data"
    },
    {
     "data": {
      "application/vnd.jupyter.widget-view+json": {
       "model_id": "b6d4b881de26434a80fbb77e56af8422",
       "version_major": 2,
       "version_minor": 0
      },
      "text/plain": [
       "Running forward model from 229 to 235:   0%|          | 0/100 [00:00<?, ?it/s]"
      ]
     },
     "metadata": {},
     "output_type": "display_data"
    },
    {
     "data": {
      "application/vnd.jupyter.widget-view+json": {
       "model_id": "8fe3ac769a63490b9567014973a9e98c",
       "version_major": 2,
       "version_minor": 0
      },
      "text/plain": [
       "Running forward model from 235 to 241:   0%|          | 0/100 [00:00<?, ?it/s]"
      ]
     },
     "metadata": {},
     "output_type": "display_data"
    },
    {
     "data": {
      "application/vnd.jupyter.widget-view+json": {
       "model_id": "9a90f7920d6949b6b0a55166bc7d3127",
       "version_major": 2,
       "version_minor": 0
      },
      "text/plain": [
       "Running forward model from 241 to 246:   0%|          | 0/100 [00:00<?, ?it/s]"
      ]
     },
     "metadata": {},
     "output_type": "display_data"
    },
    {
     "data": {
      "application/vnd.jupyter.widget-view+json": {
       "model_id": "5fe73e14f2bc4f1d81c5bfa4f8499b65",
       "version_major": 2,
       "version_minor": 0
      },
      "text/plain": [
       "Running forward model from 246 to 252:   0%|          | 0/100 [00:00<?, ?it/s]"
      ]
     },
     "metadata": {},
     "output_type": "display_data"
    },
    {
     "data": {
      "application/vnd.jupyter.widget-view+json": {
       "model_id": "f1e5ee64affe4a68b1878af5da8e9b8d",
       "version_major": 2,
       "version_minor": 0
      },
      "text/plain": [
       "Running forward model from 252 to 258:   0%|          | 0/100 [00:00<?, ?it/s]"
      ]
     },
     "metadata": {},
     "output_type": "display_data"
    },
    {
     "data": {
      "application/vnd.jupyter.widget-view+json": {
       "model_id": "ed3fa277369b4d49a978e6900820f886",
       "version_major": 2,
       "version_minor": 0
      },
      "text/plain": [
       "Running forward model from 258 to 264:   0%|          | 0/100 [00:00<?, ?it/s]"
      ]
     },
     "metadata": {},
     "output_type": "display_data"
    },
    {
     "data": {
      "application/vnd.jupyter.widget-view+json": {
       "model_id": "1e34ec425dd5421693b65ffe784b6cc1",
       "version_major": 2,
       "version_minor": 0
      },
      "text/plain": [
       "Running forward model from 264 to 270:   0%|          | 0/100 [00:00<?, ?it/s]"
      ]
     },
     "metadata": {},
     "output_type": "display_data"
    },
    {
     "data": {
      "application/vnd.jupyter.widget-view+json": {
       "model_id": "3ce6793a1f944b8d84a5032ca17da7b4",
       "version_major": 2,
       "version_minor": 0
      },
      "text/plain": [
       "Running forward model from 270 to 276:   0%|          | 0/100 [00:00<?, ?it/s]"
      ]
     },
     "metadata": {},
     "output_type": "display_data"
    },
    {
     "data": {
      "application/vnd.jupyter.widget-view+json": {
       "model_id": "37da80c63d444815b685f8b554d8b6e9",
       "version_major": 2,
       "version_minor": 0
      },
      "text/plain": [
       "Running forward model from 276 to 282:   0%|          | 0/100 [00:00<?, ?it/s]"
      ]
     },
     "metadata": {},
     "output_type": "display_data"
    },
    {
     "data": {
      "application/vnd.jupyter.widget-view+json": {
       "model_id": "7960552224ef4a269e68ed46ab4ad169",
       "version_major": 2,
       "version_minor": 0
      },
      "text/plain": [
       "Running forward model from 282 to 288:   0%|          | 0/100 [00:00<?, ?it/s]"
      ]
     },
     "metadata": {},
     "output_type": "display_data"
    },
    {
     "data": {
      "application/vnd.jupyter.widget-view+json": {
       "model_id": "887e5bb0608c4e77ba99ee38df9e5620",
       "version_major": 2,
       "version_minor": 0
      },
      "text/plain": [
       "Running forward model from 288 to 294:   0%|          | 0/100 [00:00<?, ?it/s]"
      ]
     },
     "metadata": {},
     "output_type": "display_data"
    }
   ],
   "source": [
    "A_no_update = {}\n",
    "localize = True\n",
    "k_start = 0\n",
    "for k_obs in d.index.get_level_values(\"k\").unique().to_list():\n",
    "    fields = p_map(\n",
    "        pde.heat_equation,\n",
    "        fields,\n",
    "        [alpha_t] * N,\n",
    "        [dx] * N,\n",
    "        [dt] * N,\n",
    "        [k_start] * N,\n",
    "        [k_obs + 1] * N,\n",
    "        streams,\n",
    "        [np.sqrt(dt)] * N,\n",
    "        desc=f\"Running forward model from {k_start} to {k_obs}\",\n",
    "    )\n",
    "\n",
    "    d_k = d.query(f\"k == {k_obs}\")\n",
    "    m = d_k.shape[0]\n",
    "\n",
    "    A = matrix_from_fields(fields, k_obs)\n",
    "    A_no_update[k_obs] = A.copy()\n",
    "\n",
    "    # measure response\n",
    "    Y = np.zeros(shape=(m, N))\n",
    "    for i in range(N):\n",
    "        Y[:, i] = A[:, i].reshape(nx, nx)[\n",
    "            d_k.index.get_level_values(\"x\").to_list(),\n",
    "            d_k.index.get_level_values(\"y\").to_list(),\n",
    "        ]\n",
    "\n",
    "    Cdd = np.diag(d_k.sd.values**2)\n",
    "\n",
    "    E = rng.multivariate_normal(mean=np.zeros(len(Cdd)), cov=Cdd, size=N).T\n",
    "    E = E - E.mean(axis=1, keepdims=True)\n",
    "    assert E.shape == (m, N)\n",
    "\n",
    "    D = np.ones((m, N)) * d_k.value.values.reshape(-1, 1) + E\n",
    "\n",
    "    S = Y - Y.mean(axis=1, keepdims=True)\n",
    "\n",
    "    A_centered = A - A.mean(axis=0, keepdims=True)\n",
    "    Dprime = D - Y\n",
    "\n",
    "    if localize:\n",
    "        for i in range(nx**2):\n",
    "            state_idx = np.unravel_index(i, shape=(nx, nx))\n",
    "            dist = np.sqrt(\n",
    "                (state_idx[0] - obs_coordinates[0].x) ** 2\n",
    "                + (state_idx[1] - obs_coordinates[0].y) ** 2\n",
    "            )\n",
    "            taper_coeff = taper.gauss(dist, 2.0)\n",
    "\n",
    "            K = A_centered[i, :] @ S.T @ np.linalg.pinv(S @ S.T + (N - 1) * Cdd)\n",
    "\n",
    "            # K = (\n",
    "            #    A_centered[i, :]\n",
    "            #    @ S.T\n",
    "            #    @ np.linalg.pinv(S @ S.T + (N - 1) * (1 / taper_coeff**2) * Cdd)\n",
    "            # )\n",
    "\n",
    "            A[i, :] = A[i, :] + np.sqrt(taper_coeff) * K @ (Dprime)\n",
    "    else:\n",
    "        K = A_centered @ S.T @ np.linalg.pinv(S @ S.T + (N - 1) * Cdd)\n",
    "        A = A + K @ Dprime\n",
    "\n",
    "    for i in range(N):\n",
    "        fields[i][k_obs:] = A[:, i].reshape(nx, nx)\n",
    "\n",
    "    k_start = k_obs"
   ]
  },
  {
   "cell_type": "markdown",
   "id": "9eb19cd7",
   "metadata": {},
   "source": [
    "## Plot difference between prior and posterior of a single update"
   ]
  },
  {
   "cell_type": "code",
   "execution_count": 12,
   "id": "9c460ae3",
   "metadata": {},
   "outputs": [
    {
     "data": {
      "image/png": "[encoded data removed]",
      "text/plain": [
       "<Figure size 1200x600 with 3 Axes>"
      ]
     },
     "metadata": {},
     "output_type": "display_data"
    }
   ],
   "source": [
    "k_obs = 5\n",
    "prior_mean_field = A_no_update[k_obs].mean(axis=1).reshape(nx, nx)\n",
    "posterior_mean_field = matrix_from_fields(fields, k_obs).mean(axis=1).reshape(nx, nx)\n",
    "\n",
    "fig, axes = plt.subplots(nrows=1, ncols=2, figsize=(12, 6))\n",
    "p1 = axes[0].pcolormesh(posterior_mean_field - prior_mean_field)\n",
    "utils.colorbar(p1)\n",
    "\n",
    "axes[1].plot(posterior_mean_field.ravel() - prior_mean_field.ravel())\n",
    "\n",
    "fig.tight_layout()"
   ]
  },
  {
   "cell_type": "markdown",
   "id": "eac814bc",
   "metadata": {},
   "source": [
    "## Interactive plotting"
   ]
  },
  {
   "cell_type": "code",
   "execution_count": 13,
   "id": "748f965e",
   "metadata": {},
   "outputs": [
    {
     "data": {
      "application/vnd.jupyter.widget-view+json": {
       "model_id": "ff5d2d738a3c43cb9a3e27520900c633",
       "version_major": 2,
       "version_minor": 0
      },
      "text/plain": [
       "interactive(children=(IntSlider(value=0, description='k', max=294), Output()), _dom_classes=('widget-interact'…"
      ]
     },
     "metadata": {},
     "output_type": "display_data"
    },
    {
     "data": {
      "text/plain": [
       "<function __main__.updated_vs_truth(k)>"
      ]
     },
     "execution_count": 13,
     "metadata": {},
     "output_type": "execute_result"
    }
   ],
   "source": [
    "def updated_vs_truth(k):\n",
    "    vmin = 0\n",
    "    vmax = 100\n",
    "    fig, axes = plt.subplots(nrows=1, ncols=2)\n",
    "    fig.suptitle(f\"k = {k}\")\n",
    "\n",
    "    A_with_update = matrix_from_fields(fields, k)\n",
    "\n",
    "    axes[0].set_title(\"With update\")\n",
    "    axes[0].invert_yaxis()\n",
    "    p0 = axes[0].pcolormesh(\n",
    "        A_with_update.mean(axis=1).reshape(nx, nx).T,\n",
    "        cmap=plt.cm.viridis,\n",
    "        vmin=vmin,\n",
    "        vmax=vmax,\n",
    "    )\n",
    "\n",
    "    axes[1].set_title(\"Truth\")\n",
    "    axes[1].invert_yaxis()\n",
    "    p1 = axes[1].pcolormesh(u_t[k].T, cmap=plt.cm.viridis, vmin=vmin, vmax=vmax)\n",
    "\n",
    "    utils.colorbar(p1)\n",
    "\n",
    "    fig.tight_layout()\n",
    "\n",
    "\n",
    "interact(\n",
    "    updated_vs_truth,\n",
    "    k=widgets.IntSlider(\n",
    "        min=0, max=d.index.get_level_values(\"k\").max(), step=1, value=0\n",
    "    ),\n",
    ")"
   ]
  },
  {
   "cell_type": "code",
   "execution_count": null,
   "id": "06af69fb",
   "metadata": {},
   "outputs": [],
   "source": []
  }
 ],
 "metadata": {
  "jupytext": {
   "formats": "ipynb,py:percent"
  },
  "kernelspec": {
   "display_name": "Python 3 (ipykernel)",
   "language": "python",
   "name": "python3"
  },
  "language_info": {
   "codemirror_mode": {
    "name": "ipython",
    "version": 3
   },
   "file_extension": ".py",
   "mimetype": "text/x-python",
   "name": "python",
   "nbconvert_exporter": "python",
   "pygments_lexer": "ipython3",
   "version": "3.9.14"
  }
 },
 "nbformat": 4,
 "nbformat_minor": 5
}
